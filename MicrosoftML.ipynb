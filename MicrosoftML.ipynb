{
 "cells": [
  {
   "cell_type": "markdown",
   "metadata": {},
   "source": [
    "# Land Use Classification using MicrosoftML\n",
    "In this notebook, we illustrate how one can produce a deep learning model to classify aerial images based on land use type (developed, forested, cultivated, etc.). We apply transfer learning with MicrosoftML to adapt a pretrained featurizer for our classification use case."
   ]
  },
  {
   "cell_type": "markdown",
   "metadata": {},
   "source": [
    "<a name=\"prep\"></a>\n",
    "## Prepare deep learning framework-specific input files\n",
    "\n",
    "If you have not generated your own training and validation sets through image extraction, download the following files and insert them into their corresponding filetables.\n",
    "- [Balanced training image set (~3 GB)](https://mawahstorage.blob.core.windows.net/aerialimageclassification/imagesets/balanced_training_set.zip)\n",
    "- [Balanced validation image set (~1 GB)](https://mawahstorage.blob.core.windows.net/aerialimageclassification/imagesets/balanced_validation_set.zip)\n",
    "\n",
    "The image sets linked above contain raw PNG images sorted into folders by their assigned label. \n",
    "\n",
    "Update the `image_dir` variable below to reflect the directory where your training and validation sets have been saved. The `label_to_number_dict` variable specifies the correspondence between the label names and a numeric code; it does not need to be modified unless you have changed the labeling scheme."
   ]
  },
  {
   "cell_type": "code",
   "execution_count": 2,
   "metadata": {
    "collapsed": true
   },
   "outputs": [],
   "source": [
    "# Autoreload when modules are changed\n",
    "%load_ext autoreload\n",
    "%autoreload 2"
   ]
  },
  {
   "cell_type": "code",
   "execution_count": 3,
   "metadata": {},
   "outputs": [
    {
     "name": "stdout",
     "output_type": "stream",
     "text": [
      "Old recursion limit:  1500\n",
      "New recursion limit:  1500\n"
     ]
    }
   ],
   "source": [
    "import os, sys\n",
    "import numpy as np\n",
    "import pandas as pd\n",
    "from sklearn.metrics import confusion_matrix, accuracy_score\n",
    "\n",
    "import revoscalepy as revo\n",
    "import microsoftml as ml\n",
    "\n",
    "import land_use.connection_settings as cs\n",
    "import land_use.land_use_classification_utils as luc\n",
    "\n",
    "image_dir = cs.IMAGE_DIR\n",
    "label_to_number_dict = cs.LABELS\n",
    "\n",
    "\n",
    "\n",
    "# Show matplotlib plots inline\n",
    "%matplotlib inline\n",
    "\n",
    "# Set recursion limit to be slightly larger to accommodate larger formulas (which are paresed recursively)\n",
    "print(\"Old recursion limit: \", sys.getrecursionlimit())\n",
    "sys.setrecursionlimit(1500)\n",
    "print(\"New recursion limit: \", sys.getrecursionlimit())"
   ]
  },
  {
   "cell_type": "code",
   "execution_count": 4,
   "metadata": {},
   "outputs": [
    {
     "name": "stdout",
     "output_type": "stream",
     "text": [
      "DRIVER={ODBC Driver 13 for SQL Server};SERVER=TYLER-LAPTOP\\TYLERSQLSERVER;PORT=21816;DATABASE=land_use_database;Trusted_Connection=Yes\n"
     ]
    },
    {
     "data": {
      "text/plain": [
       "<revoscalepy.computecontext.RxLocalSeq.RxLocalSeq at 0x1f3969c9a90>"
      ]
     },
     "execution_count": 4,
     "metadata": {},
     "output_type": "execute_result"
    }
   ],
   "source": [
    "# Connect to SQL Server\n",
    "connection_string = cs.get_connection_string()\n",
    "sql = revo.RxInSqlServer(connection_string=connection_string)\n",
    "local = revo.RxLocalSeq()\n",
    "revo.rx_set_compute_context(local)"
   ]
  },
  {
   "cell_type": "markdown",
   "metadata": {},
   "source": [
    "## Featurize Images"
   ]
  },
  {
   "cell_type": "code",
   "execution_count": 5,
   "metadata": {},
   "outputs": [
    {
     "name": "stdout",
     "output_type": "stream",
     "text": [
      "Rows Read: 44184, Total Rows Processed: 44184, Total Chunk Time: 12.556 seconds \n",
      "\\\\Tyler-laptop\\tylersqlserver\\FileTableData\\TrainData\\Shrub\\ortho_1-1_hn_s_ca025_2016_1_100087.png\n",
      "                                                   image      class  label\n",
      "23775  \\\\Tyler-laptop\\tylersqlserver\\FileTableData\\Tr...  Developed      5\n",
      "25797  \\\\Tyler-laptop\\tylersqlserver\\FileTableData\\Tr...  Developed      5\n",
      "27524  \\\\Tyler-laptop\\tylersqlserver\\FileTableData\\Tr...  Developed      5\n",
      "1323   \\\\Tyler-laptop\\tylersqlserver\\FileTableData\\Tr...      Shrub      2\n",
      "35606  \\\\Tyler-laptop\\tylersqlserver\\FileTableData\\Tr...     Forest      1\n",
      "Train Data:  (5000, 3)\n",
      "Rows Read: 5880, Total Rows Processed: 5880, Total Chunk Time: 1.485 seconds \n",
      "\\\\Tyler-laptop\\tylersqlserver\\FileTableData\\ValData\\Shrub\\ortho_1-1_hn_s_ca073_2016_1_1005.png\n",
      "Val Data:  (5880, 3)\n",
      "Rows Read: 5880, Total Rows Processed: 5880, Total Chunk Time: 1.556 seconds \n",
      "\\\\Tyler-laptop\\tylersqlserver\\FileTableData\\TestData\\Shrub\\ortho_1-1_hn_s_ca073_2016_1_100283.png\n",
      "Test Data:  (5880, 3)\n"
     ]
    }
   ],
   "source": [
    "train_data = luc.gather_image_paths(image_dir, label_to_number_dict, connection_string, mode=\"train\")\n",
    "train_data = train_data.sample(n=5000)\n",
    "print(train_data.head())\n",
    "print(\"Train Data: \", train_data.shape)\n",
    "\n",
    "val_data = luc.gather_image_paths(image_dir, label_to_number_dict, connection_string, mode=\"val\")\n",
    "print(\"Val Data: \", val_data.shape)\n",
    "\n",
    "test_data = luc.gather_image_paths(image_dir, label_to_number_dict, connection_string, mode=\"test\")\n",
    "print(\"Test Data: \", test_data.shape)"
   ]
  },
  {
   "cell_type": "code",
   "execution_count": 4,
   "metadata": {},
   "outputs": [
    {
     "name": "stdout",
     "output_type": "stream",
     "text": [
      "Beginning processing data.\n",
      "Rows Read: 10, Read Time: 0, Transform Time: 0\n",
      "Beginning processing data.\n",
      "Elapsed time: 00:00:08.9053791\n",
      "Finished writing 10 rows.\n",
      "Writing completed.\n",
      "Rows Read: 5000, Total Rows Processed: 5000Beginning processing data.\n",
      "Rows Read: 5000, Read Time: 0, Transform Time: 0\n",
      "Beginning processing data.\n",
      "Elapsed time: 00:23:36.2822509\n",
      "Finished writing 5000 rows.\n",
      "Writing completed.\n",
      "Total Rows written: 5000, Total time: 1.586\n",
      ", Total Chunk Time: 1421.616 seconds \n"
     ]
    }
   ],
   "source": [
    "refeatureize = True\n",
    "if refeatureize:\n",
    "    revo.rx_set_compute_context(local)\n",
    "    luc.compute_features(train_data, output_table=cs.TABLE_TRAIN_FEATURES, connection_string=connection_string)\n",
    "    revo.rx_set_compute_context(local)"
   ]
  },
  {
   "cell_type": "code",
   "execution_count": 6,
   "metadata": {},
   "outputs": [
    {
     "name": "stdout",
     "output_type": "stream",
     "text": [
      "Beginning processing data.\n",
      "Rows Read: 10, Read Time: 0, Transform Time: 0\n",
      "Beginning processing data.\n",
      "Elapsed time: 00:00:06.9032812\n",
      "Finished writing 10 rows.\n",
      "Writing completed.\n",
      "Rows Read: 5880, Total Rows Processed: 5880Beginning processing data.\n",
      "Rows Read: 5880, Read Time: 0, Transform Time: 0\n",
      "Beginning processing data.\n",
      "Elapsed time: 00:28:34.4578852\n",
      "Finished writing 5880 rows.\n",
      "Writing completed.\n",
      "Total Rows written: 5880, Total time: 2.904\n",
      ", Total Chunk Time: 1721.880 seconds \n"
     ]
    }
   ],
   "source": [
    "refeatureize = True\n",
    "if refeatureize:\n",
    "    revo.rx_set_compute_context(local)\n",
    "    luc.compute_features(val_data, output_table=cs.TABLE_VALIDATION_FEATURES, connection_string=connection_string)\n",
    "    revo.rx_set_compute_context(local)"
   ]
  },
  {
   "cell_type": "code",
   "execution_count": 7,
   "metadata": {},
   "outputs": [
    {
     "name": "stdout",
     "output_type": "stream",
     "text": [
      "Beginning processing data.\n",
      "Rows Read: 10, Read Time: 0, Transform Time: 0\n",
      "Beginning processing data.\n",
      "Elapsed time: 00:00:07.4124860\n",
      "Finished writing 10 rows.\n",
      "Writing completed.\n",
      "Rows Read: 5880, Total Rows Processed: 5880Beginning processing data.\n",
      "Rows Read: 5880, Read Time: 0, Transform Time: 0\n",
      "Beginning processing data.\n",
      "Elapsed time: 00:25:30.9375699\n",
      "Finished writing 5880 rows.\n",
      "Writing completed.\n",
      "Total Rows written: 5880, Total time: 9.757\n",
      ", Total Chunk Time: 1545.923 seconds \n"
     ]
    }
   ],
   "source": [
    "refeatureize = True\n",
    "if refeatureize:\n",
    "    revo.rx_set_compute_context(local)\n",
    "    luc.compute_features(test_data, output_table=cs.TABLE_TEST_FEATURES, connection_string=connection_string)\n",
    "    revo.rx_set_compute_context(local)"
   ]
  },
  {
   "cell_type": "markdown",
   "metadata": {},
   "source": [
    "## Train Model"
   ]
  },
  {
   "cell_type": "code",
   "execution_count": 6,
   "metadata": {
    "collapsed": true
   },
   "outputs": [],
   "source": [
    "train_features_sql = revo.RxSqlServerData(table=cs.TABLE_TRAIN_FEATURES, connection_string=connection_string)"
   ]
  },
  {
   "cell_type": "code",
   "execution_count": 7,
   "metadata": {},
   "outputs": [
    {
     "name": "stdout",
     "output_type": "stream",
     "text": [
      "Formula generated\n"
     ]
    }
   ],
   "source": [
    "formula = luc.create_formula(train_features_sql, is_dataframe=False)\n",
    "print(\"Formula generated\")"
   ]
  },
  {
   "cell_type": "code",
   "execution_count": 9,
   "metadata": {},
   "outputs": [
    {
     "ename": "AttributeError",
     "evalue": "module 'revoscalepy.utils.RxTelemetryLogger' has no attribute 'log_telemetry_event'",
     "output_type": "error",
     "traceback": [
      "\u001b[1;31m---------------------------------------------------------------------------\u001b[0m",
      "\u001b[1;31mAttributeError\u001b[0m                            Traceback (most recent call last)",
      "\u001b[1;32m<ipython-input-9-9de8aa3ea245>\u001b[0m in \u001b[0;36m<module>\u001b[1;34m()\u001b[0m\n\u001b[0;32m     10\u001b[0m                                \u001b[0mmethod\u001b[0m\u001b[1;33m=\u001b[0m\u001b[1;34m\"multiClass\"\u001b[0m\u001b[1;33m,\u001b[0m\u001b[1;33m\u001b[0m\u001b[0m\n\u001b[0;32m     11\u001b[0m                                \u001b[0mverbose\u001b[0m\u001b[1;33m=\u001b[0m\u001b[1;36m2\u001b[0m\u001b[1;33m,\u001b[0m\u001b[1;33m\u001b[0m\u001b[0m\n\u001b[1;32m---> 12\u001b[1;33m                                compute_context=local)\n\u001b[0m\u001b[0;32m     13\u001b[0m     \u001b[0mluc\u001b[0m\u001b[1;33m.\u001b[0m\u001b[0minsert_model\u001b[0m\u001b[1;33m(\u001b[0m\u001b[0mcs\u001b[0m\u001b[1;33m.\u001b[0m\u001b[0mTABLE_MODELS\u001b[0m\u001b[1;33m,\u001b[0m \u001b[0mconnection_string\u001b[0m\u001b[1;33m,\u001b[0m \u001b[0mmodel\u001b[0m\u001b[1;33m,\u001b[0m \u001b[1;34m\"rx_neural_network\"\u001b[0m\u001b[1;33m)\u001b[0m\u001b[1;33m\u001b[0m\u001b[0m\n",
      "\u001b[1;32mC:\\temp\\sqlserver\\xcopy installs\\14.0.900.75\\retail\\amd64\\sqlservr\\PYTHON_SERVICES\\lib\\site-packages\\microsoftml\\modules\\neural_network.py\u001b[0m in \u001b[0;36mrx_neural_network\u001b[1;34m(formula, data, method, num_hidden_nodes, num_iterations, optimizer, net_definition, init_wts_diameter, max_norm, acceleration, mini_batch_size, normalize, ml_transforms, ml_transform_vars, row_selection, transforms, transform_objects, transform_function, transform_variables, transform_packages, transform_environment, blocks_per_read, report_progress, verbose, ensemble, compute_context)\u001b[0m\n\u001b[0;32m    366\u001b[0m         \u001b[0mreport_progress\u001b[0m\u001b[1;33m=\u001b[0m\u001b[0mreport_progress\u001b[0m\u001b[1;33m,\u001b[0m\u001b[1;33m\u001b[0m\u001b[0m\n\u001b[0;32m    367\u001b[0m         \u001b[0mverbose\u001b[0m\u001b[1;33m=\u001b[0m\u001b[0mverbose\u001b[0m\u001b[1;33m,\u001b[0m\u001b[1;33m\u001b[0m\u001b[0m\n\u001b[1;32m--> 368\u001b[1;33m         compute_context=compute_context)\n\u001b[0m\u001b[0;32m    369\u001b[0m \u001b[1;33m\u001b[0m\u001b[0m\n\u001b[0;32m    370\u001b[0m     \u001b[0mmodel\u001b[0m\u001b[1;33m.\u001b[0m\u001b[0m_call\u001b[0m \u001b[1;33m=\u001b[0m \u001b[0mget_call_as_string\u001b[0m\u001b[1;33m(\u001b[0m\u001b[1;33m)\u001b[0m\u001b[1;33m\u001b[0m\u001b[0m\n",
      "\u001b[1;32mC:\\temp\\sqlserver\\xcopy installs\\14.0.900.75\\retail\\amd64\\sqlservr\\PYTHON_SERVICES\\lib\\site-packages\\microsoftml\\modules\\ensemble.py\u001b[0m in \u001b[0;36mfit\u001b[1;34m(self, formula, data, ml_transforms, ml_transform_vars, row_selection, transforms, transform_objects, transform_function, transform_variables, transform_packages, transform_environment, blocks_per_read, report_progress, verbose, compute_context, **kargs)\u001b[0m\n\u001b[0;32m    165\u001b[0m \u001b[1;33m\u001b[0m\u001b[0m\n\u001b[0;32m    166\u001b[0m         \u001b[1;32mif\u001b[0m \u001b[1;32mnot\u001b[0m \u001b[0mgetattr\u001b[0m\u001b[1;33m(\u001b[0m\u001b[0mself\u001b[0m\u001b[1;33m,\u001b[0m \u001b[1;34m\"ctrl_args\"\u001b[0m\u001b[1;33m,\u001b[0m \u001b[1;32mNone\u001b[0m\u001b[1;33m)\u001b[0m \u001b[1;32mor\u001b[0m \u001b[0mself\u001b[0m\u001b[1;33m.\u001b[0m\u001b[0mctrl_args\u001b[0m\u001b[1;33m.\u001b[0m\u001b[0mget\u001b[0m\u001b[1;33m(\u001b[0m\u001b[1;34m\"model_count\"\u001b[0m\u001b[1;33m,\u001b[0m \u001b[1;36m1\u001b[0m\u001b[1;33m)\u001b[0m \u001b[1;33m==\u001b[0m \u001b[1;36m1\u001b[0m\u001b[1;33m:\u001b[0m\u001b[1;33m\u001b[0m\u001b[0m\n\u001b[1;32m--> 167\u001b[1;33m             \u001b[1;32mreturn\u001b[0m \u001b[0msuper\u001b[0m\u001b[1;33m(\u001b[0m\u001b[1;33m)\u001b[0m\u001b[1;33m.\u001b[0m\u001b[0mfit\u001b[0m\u001b[1;33m(\u001b[0m\u001b[1;33m**\u001b[0m\u001b[0mself\u001b[0m\u001b[1;33m.\u001b[0m\u001b[0mdata_args\u001b[0m\u001b[1;33m)\u001b[0m\u001b[1;33m\u001b[0m\u001b[0m\n\u001b[0m\u001b[0;32m    168\u001b[0m \u001b[1;33m\u001b[0m\u001b[0m\n\u001b[0;32m    169\u001b[0m         \u001b[0mself\u001b[0m\u001b[1;33m.\u001b[0m\u001b[0mreport_progress\u001b[0m \u001b[1;33m=\u001b[0m \u001b[0mreport_progress\u001b[0m\u001b[1;33m\u001b[0m\u001b[0m\n",
      "\u001b[1;32mC:\\temp\\sqlserver\\xcopy installs\\14.0.900.75\\retail\\amd64\\sqlservr\\PYTHON_SERVICES\\lib\\site-packages\\microsoftml\\modules\\base_learner.py\u001b[0m in \u001b[0;36mfit\u001b[1;34m(self, formula, data, ml_transforms, ml_transform_vars, row_selection, transforms, transform_objects, transform_function, transform_variables, transform_packages, transform_environment, blocks_per_read, report_progress, verbose, compute_context, **kargs)\u001b[0m\n\u001b[0;32m    218\u001b[0m             \u001b[0mcompute_context\u001b[0m\u001b[1;33m=\u001b[0m\u001b[0mcompute_context\u001b[0m\u001b[1;33m,\u001b[0m\u001b[1;33m\u001b[0m\u001b[0m\n\u001b[0;32m    219\u001b[0m             \u001b[1;31m## args hidden\u001b[0m\u001b[1;33m\u001b[0m\u001b[1;33m\u001b[0m\u001b[0m\n\u001b[1;32m--> 220\u001b[1;33m             telemetry_info=telemetry_info)\n\u001b[0m\u001b[0;32m    221\u001b[0m \u001b[1;33m\u001b[0m\u001b[0m\n\u001b[0;32m    222\u001b[0m         \u001b[0mself\u001b[0m\u001b[1;33m.\u001b[0m\u001b[0mmodel_\u001b[0m\u001b[1;33m[\u001b[0m\u001b[1;34m\"params\"\u001b[0m\u001b[1;33m]\u001b[0m\u001b[1;33m[\u001b[0m\u001b[1;34m\"indVars\"\u001b[0m\u001b[1;33m]\u001b[0m \u001b[1;33m=\u001b[0m \u001b[0mfeatures\u001b[0m\u001b[1;33m\u001b[0m\u001b[0m\n",
      "\u001b[1;32mC:\\temp\\sqlserver\\xcopy installs\\14.0.900.75\\retail\\amd64\\sqlservr\\PYTHON_SERVICES\\lib\\site-packages\\microsoftml\\utils\\entrypoints.py\u001b[0m in \u001b[0;36mrun\u001b[1;34m(self, seed, parallel, max_slots, **kargs)\u001b[0m\n\u001b[0;32m    148\u001b[0m         \u001b[0mmaml_code\u001b[0m \u001b[1;33m=\u001b[0m \u001b[1;34m'graph = {%s} %s'\u001b[0m \u001b[1;33m%\u001b[0m \u001b[1;33m(\u001b[0m\u001b[0mstr\u001b[0m\u001b[1;33m(\u001b[0m\u001b[0mself\u001b[0m\u001b[1;33m)\u001b[0m\u001b[1;33m,\u001b[0m \u001b[0mcode\u001b[0m\u001b[1;33m)\u001b[0m\u001b[1;33m\u001b[0m\u001b[0m\n\u001b[0;32m    149\u001b[0m         \u001b[1;32mif\u001b[0m \u001b[0mkargs\u001b[0m\u001b[1;33m.\u001b[0m\u001b[0mget\u001b[0m\u001b[1;33m(\u001b[0m\u001b[1;34m\"dryrun\"\u001b[0m\u001b[1;33m)\u001b[0m \u001b[1;32mis\u001b[0m \u001b[1;32mNone\u001b[0m\u001b[1;33m:\u001b[0m\u001b[1;33m\u001b[0m\u001b[0m\n\u001b[1;32m--> 150\u001b[1;33m             \u001b[0mret\u001b[0m \u001b[1;33m=\u001b[0m \u001b[0mtlc_bridge\u001b[0m\u001b[1;33m(\u001b[0m\u001b[0mmaml_code\u001b[0m\u001b[1;33m=\u001b[0m\u001b[0mmaml_code\u001b[0m\u001b[1;33m,\u001b[0m \u001b[0manalysis_type\u001b[0m\u001b[1;33m=\u001b[0m\u001b[1;34m\"RunGraph\"\u001b[0m\u001b[1;33m,\u001b[0m \u001b[1;33m**\u001b[0m\u001b[0mkargs\u001b[0m\u001b[1;33m)\u001b[0m\u001b[1;33m\u001b[0m\u001b[0m\n\u001b[0m\u001b[0;32m    151\u001b[0m         \u001b[1;32melse\u001b[0m\u001b[1;33m:\u001b[0m\u001b[1;33m\u001b[0m\u001b[0m\n\u001b[0;32m    152\u001b[0m             \u001b[0mret\u001b[0m \u001b[1;33m=\u001b[0m \u001b[0mmaml_code\u001b[0m\u001b[1;33m\u001b[0m\u001b[0m\n",
      "\u001b[1;32mC:\\temp\\sqlserver\\xcopy installs\\14.0.900.75\\retail\\amd64\\sqlservr\\PYTHON_SERVICES\\lib\\site-packages\\microsoftml\\utils\\tlc_bridge.py\u001b[0m in \u001b[0;36mtlc_bridge\u001b[1;34m(formula, data, model, output_data, out_data_frame, overwrite, analysis_type, maml_code, maml_transform_variables, row_selection, transforms, transform_objects, transform_function, transform_variables, transform_packages, transform_environment, blocks_per_read, report_progress, verbose, compute_context, **kargs)\u001b[0m\n\u001b[0;32m     70\u001b[0m \u001b[1;33m\u001b[0m\u001b[0m\n\u001b[0;32m     71\u001b[0m     \u001b[0mcapture_telemetry_only\u001b[0m \u001b[1;33m=\u001b[0m \u001b[0mkargs\u001b[0m\u001b[1;33m.\u001b[0m\u001b[0mget\u001b[0m\u001b[1;33m(\u001b[0m\u001b[1;34m\"capture_telemetry_only\"\u001b[0m\u001b[1;33m)\u001b[0m\u001b[1;33m\u001b[0m\u001b[0m\n\u001b[1;32m---> 72\u001b[1;33m     \u001b[0mRxTelemetryLogger\u001b[0m\u001b[1;33m.\u001b[0m\u001b[0mlog_telemetry_event\u001b[0m\u001b[1;33m(\u001b[0m\u001b[0mtelemetry_info\u001b[0m\u001b[1;33m,\u001b[0m \u001b[0mcompute_context\u001b[0m\u001b[1;33m)\u001b[0m\u001b[1;33m\u001b[0m\u001b[0m\n\u001b[0m\u001b[0;32m     73\u001b[0m     \u001b[1;32mif\u001b[0m \u001b[0mcapture_telemetry_only\u001b[0m \u001b[1;32mis\u001b[0m \u001b[1;32mTrue\u001b[0m\u001b[1;33m:\u001b[0m\u001b[1;33m\u001b[0m\u001b[0m\n\u001b[0;32m     74\u001b[0m         \u001b[1;32mreturn\u001b[0m\u001b[1;33m\u001b[0m\u001b[0m\n",
      "\u001b[1;31mAttributeError\u001b[0m: module 'revoscalepy.utils.RxTelemetryLogger' has no attribute 'log_telemetry_event'"
     ]
    }
   ],
   "source": [
    "retrain = True\n",
    "if retrain:\n",
    "    model = ml.rx_neural_network(formula=formula,\n",
    "                               data=train_features_sql,\n",
    "                               num_hidden_nodes=100,\n",
    "                               num_iterations=100,\n",
    "                               max_norm = 0,\n",
    "                               init_wts_diameter=0.1,\n",
    "                               mini_batch_size=10,\n",
    "                               method=\"multiClass\",\n",
    "                               verbose=2,\n",
    "                               compute_context=sql)\n",
    "    luc.insert_model(cs.TABLE_MODELS, connection_string, model, \"rx_neural_network\")"
   ]
  },
  {
   "cell_type": "markdown",
   "metadata": {},
   "source": [
    "## Score Model"
   ]
  },
  {
   "cell_type": "code",
   "execution_count": 10,
   "metadata": {},
   "outputs": [
    {
     "name": "stdout",
     "output_type": "stream",
     "text": [
      "Rows Read: 1, Total Rows Processed: 1, Total Chunk Time: 0.031 seconds \n"
     ]
    }
   ],
   "source": [
    "model = luc.retrieve_model(cs.TABLE_MODELS, connection_string, \"rx_neural_network\")"
   ]
  },
  {
   "cell_type": "code",
   "execution_count": 11,
   "metadata": {},
   "outputs": [
    {
     "ename": "AttributeError",
     "evalue": "module 'revoscalepy.utils.RxTelemetryLogger' has no attribute 'log_telemetry_event'",
     "output_type": "error",
     "traceback": [
      "\u001b[1;31m---------------------------------------------------------------------------\u001b[0m",
      "\u001b[1;31mAttributeError\u001b[0m                            Traceback (most recent call last)",
      "\u001b[1;32m<ipython-input-11-2667b173c110>\u001b[0m in \u001b[0;36m<module>\u001b[1;34m()\u001b[0m\n\u001b[0;32m      1\u001b[0m \u001b[0mval_features_sql\u001b[0m \u001b[1;33m=\u001b[0m \u001b[0mrevo\u001b[0m\u001b[1;33m.\u001b[0m\u001b[0mRxSqlServerData\u001b[0m\u001b[1;33m(\u001b[0m\u001b[0mtable\u001b[0m\u001b[1;33m=\u001b[0m\u001b[0mcs\u001b[0m\u001b[1;33m.\u001b[0m\u001b[0mTABLE_VALIDATION_FEATURES\u001b[0m\u001b[1;33m,\u001b[0m \u001b[0mconnection_string\u001b[0m\u001b[1;33m=\u001b[0m\u001b[0mconnection_string\u001b[0m\u001b[1;33m)\u001b[0m\u001b[1;33m\u001b[0m\u001b[0m\n\u001b[1;32m----> 2\u001b[1;33m \u001b[0mpredictions\u001b[0m \u001b[1;33m=\u001b[0m \u001b[0mml\u001b[0m\u001b[1;33m.\u001b[0m\u001b[0mrx_predict\u001b[0m\u001b[1;33m(\u001b[0m\u001b[0mmodel\u001b[0m\u001b[1;33m,\u001b[0m \u001b[0mdata\u001b[0m\u001b[1;33m=\u001b[0m\u001b[0mval_features_sql\u001b[0m\u001b[1;33m,\u001b[0m \u001b[0mextra_vars_to_write\u001b[0m\u001b[1;33m=\u001b[0m\u001b[1;33m[\u001b[0m\u001b[1;34m\"label\"\u001b[0m\u001b[1;33m,\u001b[0m \u001b[1;34m\"image\"\u001b[0m\u001b[1;33m]\u001b[0m\u001b[1;33m)\u001b[0m\u001b[1;33m\u001b[0m\u001b[0m\n\u001b[0m\u001b[0;32m      3\u001b[0m \u001b[1;33m\u001b[0m\u001b[0m\n\u001b[0;32m      4\u001b[0m \u001b[0mnumber_to_label_dict\u001b[0m \u001b[1;33m=\u001b[0m \u001b[1;33m{\u001b[0m\u001b[1;33m}\u001b[0m\u001b[1;33m\u001b[0m\u001b[0m\n\u001b[0;32m      5\u001b[0m \u001b[1;32mfor\u001b[0m \u001b[0mlabel\u001b[0m\u001b[1;33m,\u001b[0m \u001b[0mnumber\u001b[0m \u001b[1;32min\u001b[0m \u001b[0mlabel_to_number_dict\u001b[0m\u001b[1;33m.\u001b[0m\u001b[0mitems\u001b[0m\u001b[1;33m(\u001b[0m\u001b[1;33m)\u001b[0m\u001b[1;33m:\u001b[0m\u001b[1;33m\u001b[0m\u001b[0m\n",
      "\u001b[1;32mC:\\temp\\sqlserver\\xcopy installs\\14.0.900.75\\retail\\amd64\\sqlservr\\PYTHON_SERVICES\\lib\\site-packages\\microsoftml\\modules\\predict.py\u001b[0m in \u001b[0;36mrx_predict\u001b[1;34m(model, data, output_data, write_model_vars, extra_vars_to_write, suffix, overwrite, data_threads, blocks_per_read, report_progress, verbose, compute_context, **kargs)\u001b[0m\n\u001b[0;32m    180\u001b[0m         \u001b[0mcompute_context\u001b[0m\u001b[1;33m=\u001b[0m\u001b[0mcompute_context\u001b[0m\u001b[1;33m,\u001b[0m\u001b[1;33m\u001b[0m\u001b[0m\n\u001b[0;32m    181\u001b[0m         \u001b[1;31m## args hidden\u001b[0m\u001b[1;33m\u001b[0m\u001b[1;33m\u001b[0m\u001b[0m\n\u001b[1;32m--> 182\u001b[1;33m         \u001b[0mtelemetry_info\u001b[0m\u001b[1;33m=\u001b[0m\u001b[0mtelemetry_info\u001b[0m\u001b[1;33m\u001b[0m\u001b[0m\n\u001b[0m\u001b[0;32m    183\u001b[0m         )\n\u001b[0;32m    184\u001b[0m \u001b[1;33m\u001b[0m\u001b[0m\n",
      "\u001b[1;32mC:\\temp\\sqlserver\\xcopy installs\\14.0.900.75\\retail\\amd64\\sqlservr\\PYTHON_SERVICES\\lib\\site-packages\\microsoftml\\utils\\entrypoints.py\u001b[0m in \u001b[0;36mrun\u001b[1;34m(self, seed, parallel, max_slots, **kargs)\u001b[0m\n\u001b[0;32m    148\u001b[0m         \u001b[0mmaml_code\u001b[0m \u001b[1;33m=\u001b[0m \u001b[1;34m'graph = {%s} %s'\u001b[0m \u001b[1;33m%\u001b[0m \u001b[1;33m(\u001b[0m\u001b[0mstr\u001b[0m\u001b[1;33m(\u001b[0m\u001b[0mself\u001b[0m\u001b[1;33m)\u001b[0m\u001b[1;33m,\u001b[0m \u001b[0mcode\u001b[0m\u001b[1;33m)\u001b[0m\u001b[1;33m\u001b[0m\u001b[0m\n\u001b[0;32m    149\u001b[0m         \u001b[1;32mif\u001b[0m \u001b[0mkargs\u001b[0m\u001b[1;33m.\u001b[0m\u001b[0mget\u001b[0m\u001b[1;33m(\u001b[0m\u001b[1;34m\"dryrun\"\u001b[0m\u001b[1;33m)\u001b[0m \u001b[1;32mis\u001b[0m \u001b[1;32mNone\u001b[0m\u001b[1;33m:\u001b[0m\u001b[1;33m\u001b[0m\u001b[0m\n\u001b[1;32m--> 150\u001b[1;33m             \u001b[0mret\u001b[0m \u001b[1;33m=\u001b[0m \u001b[0mtlc_bridge\u001b[0m\u001b[1;33m(\u001b[0m\u001b[0mmaml_code\u001b[0m\u001b[1;33m=\u001b[0m\u001b[0mmaml_code\u001b[0m\u001b[1;33m,\u001b[0m \u001b[0manalysis_type\u001b[0m\u001b[1;33m=\u001b[0m\u001b[1;34m\"RunGraph\"\u001b[0m\u001b[1;33m,\u001b[0m \u001b[1;33m**\u001b[0m\u001b[0mkargs\u001b[0m\u001b[1;33m)\u001b[0m\u001b[1;33m\u001b[0m\u001b[0m\n\u001b[0m\u001b[0;32m    151\u001b[0m         \u001b[1;32melse\u001b[0m\u001b[1;33m:\u001b[0m\u001b[1;33m\u001b[0m\u001b[0m\n\u001b[0;32m    152\u001b[0m             \u001b[0mret\u001b[0m \u001b[1;33m=\u001b[0m \u001b[0mmaml_code\u001b[0m\u001b[1;33m\u001b[0m\u001b[0m\n",
      "\u001b[1;32mC:\\temp\\sqlserver\\xcopy installs\\14.0.900.75\\retail\\amd64\\sqlservr\\PYTHON_SERVICES\\lib\\site-packages\\microsoftml\\utils\\tlc_bridge.py\u001b[0m in \u001b[0;36mtlc_bridge\u001b[1;34m(formula, data, model, output_data, out_data_frame, overwrite, analysis_type, maml_code, maml_transform_variables, row_selection, transforms, transform_objects, transform_function, transform_variables, transform_packages, transform_environment, blocks_per_read, report_progress, verbose, compute_context, **kargs)\u001b[0m\n\u001b[0;32m     70\u001b[0m \u001b[1;33m\u001b[0m\u001b[0m\n\u001b[0;32m     71\u001b[0m     \u001b[0mcapture_telemetry_only\u001b[0m \u001b[1;33m=\u001b[0m \u001b[0mkargs\u001b[0m\u001b[1;33m.\u001b[0m\u001b[0mget\u001b[0m\u001b[1;33m(\u001b[0m\u001b[1;34m\"capture_telemetry_only\"\u001b[0m\u001b[1;33m)\u001b[0m\u001b[1;33m\u001b[0m\u001b[0m\n\u001b[1;32m---> 72\u001b[1;33m     \u001b[0mRxTelemetryLogger\u001b[0m\u001b[1;33m.\u001b[0m\u001b[0mlog_telemetry_event\u001b[0m\u001b[1;33m(\u001b[0m\u001b[0mtelemetry_info\u001b[0m\u001b[1;33m,\u001b[0m \u001b[0mcompute_context\u001b[0m\u001b[1;33m)\u001b[0m\u001b[1;33m\u001b[0m\u001b[0m\n\u001b[0m\u001b[0;32m     73\u001b[0m     \u001b[1;32mif\u001b[0m \u001b[0mcapture_telemetry_only\u001b[0m \u001b[1;32mis\u001b[0m \u001b[1;32mTrue\u001b[0m\u001b[1;33m:\u001b[0m\u001b[1;33m\u001b[0m\u001b[0m\n\u001b[0;32m     74\u001b[0m         \u001b[1;32mreturn\u001b[0m\u001b[1;33m\u001b[0m\u001b[0m\n",
      "\u001b[1;31mAttributeError\u001b[0m: module 'revoscalepy.utils.RxTelemetryLogger' has no attribute 'log_telemetry_event'"
     ]
    }
   ],
   "source": [
    "val_features_sql = revo.RxSqlServerData(table=cs.TABLE_VALIDATION_FEATURES, connection_string=connection_string)\n",
    "predictions = ml.rx_predict(model, data=val_features_sql, extra_vars_to_write=[\"label\", \"image\"])\n",
    "\n",
    "number_to_label_dict = {}\n",
    "for label, number in label_to_number_dict.items():\n",
    "    number_to_label_dict[\"Score.\"+str(number)] = label\n",
    "print(number_to_label_dict)\n",
    "    \n",
    "predictions=predictions.rename(columns = number_to_label_dict)\n",
    "\n",
    "predictions_sql = revo.RxSqlServerData(table=cs.TABLE_VAL_PREDICTIONS, connection_string=connection_string)\n",
    "revo.rx_data_step(predictions, predictions_sql, overwrite=True)\n",
    "print(predictions.head())"
   ]
  },
  {
   "cell_type": "markdown",
   "metadata": {},
   "source": [
    "## Analyze Model"
   ]
  },
  {
   "cell_type": "code",
   "execution_count": 12,
   "metadata": {},
   "outputs": [
    {
     "ename": "NameError",
     "evalue": "name 'predictions' is not defined",
     "output_type": "error",
     "traceback": [
      "\u001b[1;31m---------------------------------------------------------------------------\u001b[0m",
      "\u001b[1;31mNameError\u001b[0m                                 Traceback (most recent call last)",
      "\u001b[1;32m<ipython-input-12-f1b3c311346c>\u001b[0m in \u001b[0;36m<module>\u001b[1;34m()\u001b[0m\n\u001b[0;32m      1\u001b[0m \u001b[1;31m# Confusion matrix\u001b[0m\u001b[1;33m\u001b[0m\u001b[1;33m\u001b[0m\u001b[0m\n\u001b[1;32m----> 2\u001b[1;33m \u001b[0mclass_probs\u001b[0m \u001b[1;33m=\u001b[0m \u001b[0mnp\u001b[0m\u001b[1;33m.\u001b[0m\u001b[0marray\u001b[0m\u001b[1;33m(\u001b[0m\u001b[0mpredictions\u001b[0m\u001b[1;33m.\u001b[0m\u001b[0mdrop\u001b[0m\u001b[1;33m(\u001b[0m\u001b[1;33m[\u001b[0m\u001b[1;34m\"label\"\u001b[0m\u001b[1;33m,\u001b[0m \u001b[1;34m\"image\"\u001b[0m\u001b[1;33m]\u001b[0m\u001b[1;33m,\u001b[0m \u001b[0maxis\u001b[0m\u001b[1;33m=\u001b[0m\u001b[1;36m1\u001b[0m\u001b[1;33m)\u001b[0m\u001b[1;33m)\u001b[0m\u001b[1;33m\u001b[0m\u001b[0m\n\u001b[0m\u001b[0;32m      3\u001b[0m \u001b[0my_pred\u001b[0m \u001b[1;33m=\u001b[0m \u001b[0mnp\u001b[0m\u001b[1;33m.\u001b[0m\u001b[0margmax\u001b[0m\u001b[1;33m(\u001b[0m\u001b[0mclass_probs\u001b[0m\u001b[1;33m,\u001b[0m \u001b[0maxis\u001b[0m\u001b[1;33m=\u001b[0m\u001b[1;36m1\u001b[0m\u001b[1;33m)\u001b[0m\u001b[1;33m\u001b[0m\u001b[0m\n\u001b[0;32m      4\u001b[0m \u001b[0my_true\u001b[0m \u001b[1;33m=\u001b[0m \u001b[0mnp\u001b[0m\u001b[1;33m.\u001b[0m\u001b[0marray\u001b[0m\u001b[1;33m(\u001b[0m\u001b[0mpredictions\u001b[0m\u001b[1;33m[\u001b[0m\u001b[1;34m\"label\"\u001b[0m\u001b[1;33m]\u001b[0m\u001b[1;33m)\u001b[0m\u001b[1;33m\u001b[0m\u001b[0m\n\u001b[0;32m      5\u001b[0m \u001b[0mcm\u001b[0m \u001b[1;33m=\u001b[0m \u001b[0mconfusion_matrix\u001b[0m\u001b[1;33m(\u001b[0m\u001b[0my_true\u001b[0m\u001b[1;33m,\u001b[0m \u001b[0my_pred\u001b[0m\u001b[1;33m)\u001b[0m\u001b[1;33m\u001b[0m\u001b[0m\n",
      "\u001b[1;31mNameError\u001b[0m: name 'predictions' is not defined"
     ]
    }
   ],
   "source": [
    "# Confusion matrix\n",
    "class_probs = np.array(predictions.drop([\"label\", \"image\"], axis=1))\n",
    "y_pred = np.argmax(class_probs, axis=1)\n",
    "y_true = np.array(predictions[\"label\"])\n",
    "cm = confusion_matrix(y_true, y_pred)\n",
    "luc.plot_confusion_matrix(cm, [\"Barren\", \"Forest\", \"Shrub\", \"Cultivated\", \"Herbaceous\", \"Developed\"])"
   ]
  },
  {
   "cell_type": "code",
   "execution_count": 14,
   "metadata": {},
   "outputs": [
    {
     "name": "stdout",
     "output_type": "stream",
     "text": [
      "Accuracy (all classes):  0.793027210884\n"
     ]
    }
   ],
   "source": [
    "# Accuracy (all classes)\n",
    "accuracy = accuracy_score(y_true, y_pred)\n",
    "print(\"Accuracy (all classes): \", accuracy)"
   ]
  },
  {
   "cell_type": "code",
   "execution_count": 15,
   "metadata": {},
   "outputs": [
    {
     "name": "stdout",
     "output_type": "stream",
     "text": [
      "Accuracy (Undeveloped, Cultivated, Developed):  0.929761904762\n"
     ]
    }
   ],
   "source": [
    "# Accuracy (Undeveloped, Cultivated, Developed)\n",
    "y_true = luc.merge_classes(y_true)\n",
    "y_pred = luc.merge_classes(y_pred)\n",
    "\n",
    "accuracy = accuracy_score(y_true, y_pred)\n",
    "print(\"Accuracy (Undeveloped, Cultivated, Developed): \", accuracy)"
   ]
  },
  {
   "cell_type": "markdown",
   "metadata": {},
   "source": [
    "## Evaluate Final Model on Test Set\n",
    "Only run this section once, with the final model based on validation results, in order to prevent overfitting to the test set."
   ]
  },
  {
   "cell_type": "code",
   "execution_count": 16,
   "metadata": {},
   "outputs": [
    {
     "name": "stdout",
     "output_type": "stream",
     "text": [
      "Rows Read: 1, Total Rows Processed: 1, Total Chunk Time: 0.044 seconds \n"
     ]
    }
   ],
   "source": [
    "model = luc.retrieve_model(cs.TABLE_MODELS, connection_string, \"rx_neural_network\")"
   ]
  },
  {
   "cell_type": "code",
   "execution_count": 17,
   "metadata": {},
   "outputs": [
    {
     "name": "stdout",
     "output_type": "stream",
     "text": [
      "Beginning read starting with row: 1\n",
      "Rows Read: 5880, Read Time: 1.15, Transform Time: 0\n",
      "Beginning read starting with row: 5880\n",
      "No rows remaining. Finished reading data set. \n",
      "Elapsed time: 00:00:02.7024889\n",
      "Finished writing 5880 rows.\n",
      "Writing completed.\n",
      "{'Score.5': 'Developed', 'Score.0': 'Barren', 'Score.3': 'Cultivated', 'Score.2': 'Shrub', 'Score.1': 'Forest', 'Score.4': 'Herbaceous'}\n",
      "Rows Read: 5880, Total Rows Processed: 5880\n",
      "Total Rows written: 5880, Total time: 0.609\n",
      ", Total Chunk Time: 0.687 seconds \n",
      "                                               image  label    Barren  \\\n",
      "0  \\\\Tyler-laptop\\tylersqlserver\\FileTableData\\Te...    2.0  0.005034   \n",
      "1  \\\\Tyler-laptop\\tylersqlserver\\FileTableData\\Te...    2.0  0.001845   \n",
      "2  \\\\Tyler-laptop\\tylersqlserver\\FileTableData\\Te...    2.0  0.002336   \n",
      "3  \\\\Tyler-laptop\\tylersqlserver\\FileTableData\\Te...    2.0  0.002957   \n",
      "4  \\\\Tyler-laptop\\tylersqlserver\\FileTableData\\Te...    2.0  0.025673   \n",
      "\n",
      "     Forest     Shrub  Cultivated  Herbaceous  Developed  \n",
      "0  0.484673  0.373369    0.012999    0.119459   0.004467  \n",
      "1  0.320971  0.547489    0.004733    0.122384   0.002578  \n",
      "2  0.156794  0.816647    0.004128    0.012933   0.007162  \n",
      "3  0.121885  0.071677    0.035686    0.765338   0.002457  \n",
      "4  0.133167  0.604738    0.032498    0.197067   0.006857  \n"
     ]
    }
   ],
   "source": [
    "test_features_sql = revo.RxSqlServerData(table=cs.TABLE_TEST_FEATURES, connection_string=connection_string)\n",
    "predictions = ml.rx_predict(model, data=test_features_sql, extra_vars_to_write=[\"label\", \"image\"])\n",
    "\n",
    "number_to_label_dict = {}\n",
    "for label, number in label_to_number_dict.items():\n",
    "    number_to_label_dict[\"Score.\"+str(number)] = label\n",
    "print(number_to_label_dict)\n",
    "\n",
    "predictions=predictions.rename(columns = number_to_label_dict)\n",
    "\n",
    "predictions_sql = revo.RxSqlServerData(table=cs.TABLE_TEST_PREDICTIONS, connection_string=connection_string)\n",
    "revo.rx_data_step(predictions, predictions_sql, overwrite=True)\n",
    "print(predictions.head())"
   ]
  },
  {
   "cell_type": "code",
   "execution_count": 18,
   "metadata": {},
   "outputs": [
    {
     "name": "stdout",
     "output_type": "stream",
     "text": [
      "Accuracy (all classes):  0.792346938776\n"
     ]
    }
   ],
   "source": [
    "class_probs = np.array(predictions.drop([\"label\", \"image\"], axis=1))\n",
    "y_pred = np.argmax(class_probs, axis=1)\n",
    "y_true = np.array(predictions[\"label\"])\n",
    "\n",
    "# Accuracy (all classes)\n",
    "accuracy = accuracy_score(y_true, y_pred)\n",
    "print(\"Accuracy (all classes): \", accuracy)"
   ]
  },
  {
   "cell_type": "code",
   "execution_count": 19,
   "metadata": {},
   "outputs": [
    {
     "name": "stdout",
     "output_type": "stream",
     "text": [
      "Accuracy (Undeveloped, Cultivated, Developed):  0.929931972789\n"
     ]
    }
   ],
   "source": [
    "# Accuracy (Undeveloped, Cultivated, Developed)\n",
    "y_true = luc.merge_classes(y_true)\n",
    "y_pred = luc.merge_classes(y_pred)\n",
    "\n",
    "accuracy = accuracy_score(y_true, y_pred)\n",
    "print(\"Accuracy (Undeveloped, Cultivated, Developed): \", accuracy)"
   ]
  },
  {
   "cell_type": "code",
   "execution_count": null,
   "metadata": {
    "collapsed": true
   },
   "outputs": [],
   "source": []
  },
  {
   "cell_type": "code",
   "execution_count": null,
   "metadata": {
    "collapsed": true
   },
   "outputs": [],
   "source": []
  }
 ],
 "metadata": {
  "kernelspec": {
   "display_name": "Python 3",
   "language": "python",
   "name": "python3"
  },
  "language_info": {
   "codemirror_mode": {
    "name": "ipython",
    "version": 3
   },
   "file_extension": ".py",
   "mimetype": "text/x-python",
   "name": "python",
   "nbconvert_exporter": "python",
   "pygments_lexer": "ipython3",
   "version": "3.5.2"
  }
 },
 "nbformat": 4,
 "nbformat_minor": 2
}
