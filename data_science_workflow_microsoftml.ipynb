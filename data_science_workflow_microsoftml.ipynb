{
 "cells": [
  {
   "cell_type": "markdown",
   "metadata": {},
   "source": [
    "# Land Use Classification using MicrosoftML\n",
    "In this notebook, we illustrate how one can produce a deep learning model to classify aerial images based on land use type (developed, forested, cultivated, etc.). We apply transfer learning with MicrosoftML to adapt a pretrained featurizer for our classification use case."
   ]
  },
  {
   "cell_type": "markdown",
   "metadata": {},
   "source": [
    "<a name=\"prep\"></a>\n",
    "## Prepare deep learning framework-specific input files\n",
    "\n",
    "If you have not generated your own training and validation sets through image extraction, download the following files and decompress them in your VM's temporary (`D:\\`) storage:\n",
    "- [Balanced training image set (~3 GB)](https://mawahstorage.blob.core.windows.net/aerialimageclassification/imagesets/balanced_training_set.zip)\n",
    "- [Balanced validation image set (~1 GB)](https://mawahstorage.blob.core.windows.net/aerialimageclassification/imagesets/balanced_validation_set.zip)\n",
    "\n",
    "The image sets linked above contain raw PNG images sorted into folders by their assigned label. \n",
    "\n",
    "Update the `training_image_dir` variable below to reflect the directory where your training and validation sets have been saved. The `label_to_number_dict` variable specifies the correspondence between the label names and a numeric code; it does not need to be modified unless you have changed the labeling scheme."
   ]
  },
  {
   "cell_type": "code",
   "execution_count": 1,
   "metadata": {},
   "outputs": [
    {
     "name": "stdout",
     "output_type": "stream",
     "text": [
      "Old recursion limit:  1000\n",
      "New recursion limit:  1500\n"
     ]
    }
   ],
   "source": [
    "import os, sys\n",
    "import numpy as np\n",
    "import pandas as pd\n",
    "from sklearn.decomposition import IncrementalPCA\n",
    "from sklearn.metrics import confusion_matrix, accuracy_score\n",
    "\n",
    "import revoscalepy as revo\n",
    "import microsoftml as ml\n",
    "\n",
    "import utils.connection_settings as cs\n",
    "import utils.land_use_classification_utils as luc\n",
    "\n",
    "training_image_dir = cs.TRAINING_IMAGE_DIR\n",
    "validation_image_dir = cs.VALIDATION_IMAGE_DIR\n",
    "test_image_dir = cs.TEST_IMAGE_DIR\n",
    "label_to_number_dict = {'Barren': 0,\n",
    "                        'Forest': 1,\n",
    "                        'Shrub': 2,\n",
    "                        'Cultivated': 3,\n",
    "                        'Herbaceous': 4,\n",
    "                        'Developed': 5}\n",
    "\n",
    "# Autoreload when modules are changed\n",
    "%load_ext autoreload\n",
    "%autoreload 2\n",
    "\n",
    "# Show matplotlib plots inline\n",
    "%matplotlib inline\n",
    "\n",
    "# Set recursion limit to be slightly larger to accommodate larger formulas (which are paresed recursively)\n",
    "print(\"Old recursion limit: \", sys.getrecursionlimit())\n",
    "sys.setrecursionlimit(1500)\n",
    "print(\"New recursion limit: \", sys.getrecursionlimit())"
   ]
  },
  {
   "cell_type": "code",
   "execution_count": 2,
   "metadata": {},
   "outputs": [
    {
     "name": "stdout",
     "output_type": "stream",
     "text": [
      "DRIVER={ODBC Driver 13 for SQL Server};SERVER=TYLER-LAPTOP\\TYLERSQLSERVER;PORT=21816;DATABASE=land_use_database;UID=demo;PWD=D@tascience\n"
     ]
    },
    {
     "data": {
      "text/plain": [
       "<revoscalepy.computecontext.RxLocalSeq.RxLocalSeq at 0x1457bd9d710>"
      ]
     },
     "execution_count": 2,
     "metadata": {},
     "output_type": "execute_result"
    }
   ],
   "source": [
    "# Connect to SQL Server\n",
    "connection_string = cs.get_connection_string()\n",
    "sql = revo.RxInSqlServer(connection_string=connection_string)\n",
    "local = revo.RxLocalSeq()\n",
    "revo.rx_set_compute_context(local)"
   ]
  },
  {
   "cell_type": "markdown",
   "metadata": {},
   "source": [
    "## Featurize Training Images"
   ]
  },
  {
   "cell_type": "code",
   "execution_count": 3,
   "metadata": {},
   "outputs": [
    {
     "name": "stdout",
     "output_type": "stream",
     "text": [
      "                                               image  label\n",
      "0  C:\\Users\\t-tyrome\\Documents\\Internship\\LandUse...      0\n",
      "1  C:\\Users\\t-tyrome\\Documents\\Internship\\LandUse...      0\n",
      "2  C:\\Users\\t-tyrome\\Documents\\Internship\\LandUse...      0\n",
      "3  C:\\Users\\t-tyrome\\Documents\\Internship\\LandUse...      0\n",
      "4  C:\\Users\\t-tyrome\\Documents\\Internship\\LandUse...      0\n",
      "(44184, 2)\n"
     ]
    }
   ],
   "source": [
    "train_data = luc.gather_data(training_image_dir, label_to_number_dict)\n",
    "print(train_data.head())\n",
    "print(train_data.shape)"
   ]
  },
  {
   "cell_type": "code",
   "execution_count": 5,
   "metadata": {
    "collapsed": true
   },
   "outputs": [],
   "source": [
    "refeatureize = False\n",
    "if refeatureize:\n",
    "    featurized_train_data = compute_features(train_data, cs.MICROSOFTML_MODEL_NAME, compute_context=None)\n",
    "    print(featurized_train_data.head())\n",
    "\n",
    "    train_features_sql = revo.RxSqlServerData(table=cs.TABLE_TRAIN_FEATURES, connection_string=connection_string)\n",
    "    revo.rx_data_step(featurized_train_data, train_features_sql, overwrite=True)"
   ]
  },
  {
   "cell_type": "markdown",
   "metadata": {},
   "source": [
    "## Train Model"
   ]
  },
  {
   "cell_type": "code",
   "execution_count": 6,
   "metadata": {
    "collapsed": true
   },
   "outputs": [],
   "source": [
    "train_features_sql = revo.RxSqlServerData(table=cs.TABLE_TRAIN_FEATURES, connection_string=connection_string)"
   ]
  },
  {
   "cell_type": "code",
   "execution_count": 8,
   "metadata": {},
   "outputs": [
    {
     "name": "stdout",
     "output_type": "stream",
     "text": [
      "label ~ f0 + f1 + f2 + f3 + f4 + f5 + f6 + f7 + f8 + f9 + f10 + f11 + f12 + f13 + f14 + f15 + f16 + f17 + f18 + f19 + f20 + f21 + f22 + f23 + f24 + f25 + f26 + f27 + f28 + f29 + f30 + f31 + f32 + f33 + f34 + f35 + f36 + f37 + f38 + f39 + f40 + f41 + f42 + f43 + f44 + f45 + f46 + f47 + f48 + f49 + f50 + f51 + f52 + f53 + f54 + f55 + f56 + f57 + f58 + f59 + f60 + f61 + f62 + f63 + f64 + f65 + f66 + f67 + f68 + f69 + f70 + f71 + f72 + f73 + f74 + f75 + f76 + f77 + f78 + f79 + f80 + f81 + f82 + f83 + f84 + f85 + f86 + f87 + f88 + f89 + f90 + f91 + f92 + f93 + f94 + f95 + f96 + f97 + f98 + f99 + f100 + f101 + f102 + f103 + f104 + f105 + f106 + f107 + f108 + f109 + f110 + f111 + f112 + f113 + f114 + f115 + f116 + f117 + f118 + f119 + f120 + f121 + f122 + f123 + f124 + f125 + f126 + f127 + f128 + f129 + f130 + f131 + f132 + f133 + f134 + f135 + f136 + f137 + f138 + f139 + f140 + f141 + f142 + f143 + f144 + f145 + f146 + f147 + f148 + f149 + f150 + f151 + f152 + f153 + f154 + f155 + f156 + f157 + f158 + f159 + f160 + f161 + f162 + f163 + f164 + f165 + f166 + f167 + f168 + f169 + f170 + f171 + f172 + f173 + f174 + f175 + f176 + f177 + f178 + f179 + f180 + f181 + f182 + f183 + f184 + f185 + f186 + f187 + f188 + f189 + f190 + f191 + f192 + f193 + f194 + f195 + f196 + f197 + f198 + f199 + f200 + f201 + f202 + f203 + f204 + f205 + f206 + f207 + f208 + f209 + f210 + f211 + f212 + f213 + f214 + f215 + f216 + f217 + f218 + f219 + f220 + f221 + f222 + f223 + f224 + f225 + f226 + f227 + f228 + f229 + f230 + f231 + f232 + f233 + f234 + f235 + f236 + f237 + f238 + f239 + f240 + f241 + f242 + f243 + f244 + f245 + f246 + f247 + f248 + f249 + f250 + f251 + f252 + f253 + f254 + f255 + f256 + f257 + f258 + f259 + f260 + f261 + f262 + f263 + f264 + f265 + f266 + f267 + f268 + f269 + f270 + f271 + f272 + f273 + f274 + f275 + f276 + f277 + f278 + f279 + f280 + f281 + f282 + f283 + f284 + f285 + f286 + f287 + f288 + f289 + f290 + f291 + f292 + f293 + f294 + f295 + f296 + f297 + f298 + f299 + f300 + f301 + f302 + f303 + f304 + f305 + f306 + f307 + f308 + f309 + f310 + f311 + f312 + f313 + f314 + f315 + f316 + f317 + f318 + f319 + f320 + f321 + f322 + f323 + f324 + f325 + f326 + f327 + f328 + f329 + f330 + f331 + f332 + f333 + f334 + f335 + f336 + f337 + f338 + f339 + f340 + f341 + f342 + f343 + f344 + f345 + f346 + f347 + f348 + f349 + f350 + f351 + f352 + f353 + f354 + f355 + f356 + f357 + f358 + f359 + f360 + f361 + f362 + f363 + f364 + f365 + f366 + f367 + f368 + f369 + f370 + f371 + f372 + f373 + f374 + f375 + f376 + f377 + f378 + f379 + f380 + f381 + f382 + f383 + f384 + f385 + f386 + f387 + f388 + f389 + f390 + f391 + f392 + f393 + f394 + f395 + f396 + f397 + f398 + f399 + f400 + f401 + f402 + f403 + f404 + f405 + f406 + f407 + f408 + f409 + f410 + f411 + f412 + f413 + f414 + f415 + f416 + f417 + f418 + f419 + f420 + f421 + f422 + f423 + f424 + f425 + f426 + f427 + f428 + f429 + f430 + f431 + f432 + f433 + f434 + f435 + f436 + f437 + f438 + f439 + f440 + f441 + f442 + f443 + f444 + f445 + f446 + f447 + f448 + f449 + f450 + f451 + f452 + f453 + f454 + f455 + f456 + f457 + f458 + f459 + f460 + f461 + f462 + f463 + f464 + f465 + f466 + f467 + f468 + f469 + f470 + f471 + f472 + f473 + f474 + f475 + f476 + f477 + f478 + f479 + f480 + f481 + f482 + f483 + f484 + f485 + f486 + f487 + f488 + f489 + f490 + f491 + f492 + f493 + f494 + f495 + f496 + f497 + f498 + f499 + f500 + f501 + f502 + f503 + f504 + f505 + f506 + f507 + f508 + f509 + f510 + f511\n"
     ]
    }
   ],
   "source": [
    "formula = luc.create_formula(train_features_sql, is_dataframe=False)\n",
    "print(formula)"
   ]
  },
  {
   "cell_type": "code",
   "execution_count": 9,
   "metadata": {
    "collapsed": true
   },
   "outputs": [],
   "source": [
    "retrain = False\n",
    "if retrain:\n",
    "    model = ml.rx_neural_network(formula=formula,\n",
    "                               data=train_features_sql,\n",
    "                               num_hidden_nodes=100,\n",
    "                               num_iterations=100,\n",
    "                               max_norm = 0,\n",
    "                               init_wts_diameter=0.1,\n",
    "                               mini_batch_size=10,\n",
    "                               method=\"multiClass\",\n",
    "                               verbose=2,\n",
    "                               compute_context=sql)\n",
    "    luc.insert_model(cs.TABLE_MODELS, connection_string, model, \"rx_neural_network\")"
   ]
  },
  {
   "cell_type": "markdown",
   "metadata": {},
   "source": [
    "## Featureize Validation Images"
   ]
  },
  {
   "cell_type": "code",
   "execution_count": 10,
   "metadata": {},
   "outputs": [
    {
     "name": "stdout",
     "output_type": "stream",
     "text": [
      "Rows Read: 1, Total Rows Processed: 1, Total Chunk Time: 0.034 seconds \n"
     ]
    }
   ],
   "source": [
    "model = luc.retrieve_model(cs.TABLE_MODELS, connection_string, \"rx_neural_network\")"
   ]
  },
  {
   "cell_type": "code",
   "execution_count": 11,
   "metadata": {},
   "outputs": [
    {
     "name": "stdout",
     "output_type": "stream",
     "text": [
      "                                               image   label\n",
      "0  C:\\Users\\t-tyrome\\Documents\\Internship\\LandUse...       0\n",
      "1  C:\\Users\\t-tyrome\\Documents\\Internship\\LandUse...       0\n",
      "2  C:\\Users\\t-tyrome\\Documents\\Internship\\LandUse...       0\n",
      "3  C:\\Users\\t-tyrome\\Documents\\Internship\\LandUse...       0\n",
      "4  C:\\Users\\t-tyrome\\Documents\\Internship\\LandUse...       0\n",
      "(5880, 2)\n"
     ]
    }
   ],
   "source": [
    "csv_path = luc.generate_csv(validation_image_dir, label_to_number_dict)\n",
    "val_data = pd.read_csv(csv_path)\n",
    "print(val_data.head())\n",
    "print(val_data.shape)"
   ]
  },
  {
   "cell_type": "code",
   "execution_count": 12,
   "metadata": {
    "collapsed": true
   },
   "outputs": [],
   "source": [
    "refeatureize = False\n",
    "if refeatureize:\n",
    "    featurized_val_data = compute_features(val_data, cs.MICROSOFTML_MODEL_NAME, compute_context=None)\n",
    "    print(featurized_val_data.head())\n",
    "\n",
    "    val_features_sql = revo.RxSqlServerData(table=cs.TABLE_VALIDATION_FEATURES, connection_string=connection_string)\n",
    "    revo.rx_data_step(featurized_val_data, val_features_sql, overwrite=True)"
   ]
  },
  {
   "cell_type": "markdown",
   "metadata": {},
   "source": [
    "## Score Model"
   ]
  },
  {
   "cell_type": "code",
   "execution_count": 13,
   "metadata": {},
   "outputs": [
    {
     "name": "stdout",
     "output_type": "stream",
     "text": [
      "Beginning read starting with row: 1\n",
      "Rows Read: 5880, Read Time: 1.32, Transform Time: 0\n",
      "Beginning read starting with row: 5880\n",
      "No rows remaining. Finished reading data set. \n",
      "Elapsed time: 00:00:04.4467634\n",
      "Finished writing 5880 rows.\n",
      "Writing completed.\n",
      "{'Score.5': 'Developed', 'Score.4': 'Herbaceous', 'Score.3': 'Cultivated', 'Score.0': 'Barren', 'Score.2': 'Shrub', 'Score.1': 'Forest'}\n",
      "Rows Read: 5880, Total Rows Processed: 5880\n",
      "Total Rows written: 5880, Total time: 0.128\n",
      ", Total Chunk Time: 0.176 seconds \n",
      "                                               image  label    Barren  \\\n",
      "0  C:\\Users\\t-tyrome\\Documents\\Internship\\LandUse...    0.0  0.348495   \n",
      "1  C:\\Users\\t-tyrome\\Documents\\Internship\\LandUse...    0.0  0.833727   \n",
      "2  C:\\Users\\t-tyrome\\Documents\\Internship\\LandUse...    0.0  0.308901   \n",
      "3  C:\\Users\\t-tyrome\\Documents\\Internship\\LandUse...    0.0  0.084916   \n",
      "4  C:\\Users\\t-tyrome\\Documents\\Internship\\LandUse...    0.0  0.045815   \n",
      "\n",
      "     Forest     Shrub  Cultivated  Herbaceous  Developed  \n",
      "0  0.007248  0.572395    0.015999    0.054760   0.001104  \n",
      "1  0.003767  0.158723    0.002411    0.001049   0.000322  \n",
      "2  0.047378  0.633350    0.008154    0.001915   0.000303  \n",
      "3  0.040140  0.871007    0.002977    0.000777   0.000182  \n",
      "4  0.000703  0.949452    0.001378    0.002361   0.000291  \n"
     ]
    }
   ],
   "source": [
    "val_features_sql = revo.RxSqlServerData(table=cs.TABLE_VALIDATION_FEATURES, connection_string=connection_string)\n",
    "predictions = ml.rx_predict(model, data=val_features_sql, extra_vars_to_write=[\"label\", \"image\"])\n",
    "\n",
    "number_to_label_dict = {}\n",
    "for label, number in label_to_number_dict.items():\n",
    "    number_to_label_dict[\"Score.\"+str(number)] = label\n",
    "print(number_to_label_dict)\n",
    "    \n",
    "predictions=predictions.rename(columns = number_to_label_dict)\n",
    "\n",
    "predictions_sql = revo.RxSqlServerData(table=cs.TABLE_VAL_PREDICTIONS, connection_string=connection_string)\n",
    "revo.rx_data_step(predictions, predictions_sql, overwrite=True)\n",
    "print(predictions.head())"
   ]
  },
  {
   "cell_type": "markdown",
   "metadata": {},
   "source": [
    "## Analyze Model"
   ]
  },
  {
   "cell_type": "code",
   "execution_count": 14,
   "metadata": {},
   "outputs": [
    {
     "name": "stdout",
     "output_type": "stream",
     "text": [
      "Confusion matrix, without normalization\n"
     ]
    },
    {
     "data": {
      "image/png": "[encoded data removed]",
      "text/plain": [
       "<matplotlib.figure.Figure at 0x25a676675f8>"
      ]
     },
     "metadata": {},
     "output_type": "display_data"
    }
   ],
   "source": [
    "# Confusion matrix\n",
    "class_probs = np.array(predictions.drop([\"label\", \"image\"], axis=1))\n",
    "y_pred = np.argmax(class_probs, axis=1)\n",
    "y_true = np.array(predictions[\"label\"])\n",
    "cm = confusion_matrix(y_true, y_pred)\n",
    "luc.plot_confusion_matrix(cm, [\"Barren\", \"Forest\", \"Shrub\", \"Cultivated\", \"Herbaceous\", \"Developed\"])"
   ]
  },
  {
   "cell_type": "code",
   "execution_count": 15,
   "metadata": {},
   "outputs": [
    {
     "name": "stdout",
     "output_type": "stream",
     "text": [
      "Accuracy (all classes):  0.823979591837\n"
     ]
    }
   ],
   "source": [
    "# Accuracy (all classes)\n",
    "accuracy = accuracy_score(y_true, y_pred)\n",
    "print(\"Accuracy (all classes): \", accuracy)"
   ]
  },
  {
   "cell_type": "code",
   "execution_count": 16,
   "metadata": {},
   "outputs": [
    {
     "name": "stdout",
     "output_type": "stream",
     "text": [
      "Accuracy (Undeveloped, Cultivated, Developed):  0.940986394558\n"
     ]
    }
   ],
   "source": [
    "# Accuracy (Undeveloped, Cultivated, Developed)\n",
    "\n",
    "# Let 6 be a new label indicating undeveloped land as a whole\n",
    "y_true[y_true==label_to_number_dict[\"Barren\"]] = 6\n",
    "y_true[y_true==label_to_number_dict[\"Forest\"]] = 6\n",
    "y_true[y_true==label_to_number_dict[\"Shrub\"]] = 6\n",
    "y_true[y_true==label_to_number_dict[\"Herbaceous\"]] = 6\n",
    "y_pred[y_pred==label_to_number_dict[\"Barren\"]] = 6\n",
    "y_pred[y_pred==label_to_number_dict[\"Forest\"]] = 6\n",
    "y_pred[y_pred==label_to_number_dict[\"Shrub\"]] = 6\n",
    "y_pred[y_pred==label_to_number_dict[\"Herbaceous\"]] = 6\n",
    "\n",
    "accuracy = accuracy_score(y_true, y_pred)\n",
    "print(\"Accuracy (Undeveloped, Cultivated, Developed): \", accuracy)"
   ]
  },
  {
   "cell_type": "markdown",
   "metadata": {},
   "source": [
    "## Featurize Test Images"
   ]
  },
  {
   "cell_type": "code",
   "execution_count": 17,
   "metadata": {},
   "outputs": [
    {
     "name": "stdout",
     "output_type": "stream",
     "text": [
      "Rows Read: 1, Total Rows Processed: 1, Total Chunk Time: 0.037 seconds \n"
     ]
    }
   ],
   "source": [
    "model = luc.retrieve_model(cs.TABLE_MODELS, connection_string, \"rx_neural_network\")"
   ]
  },
  {
   "cell_type": "code",
   "execution_count": 18,
   "metadata": {},
   "outputs": [
    {
     "name": "stdout",
     "output_type": "stream",
     "text": [
      "                                               image   label\n",
      "0  C:\\Users\\t-tyrome\\Documents\\Internship\\LandUse...       0\n",
      "1  C:\\Users\\t-tyrome\\Documents\\Internship\\LandUse...       0\n",
      "2  C:\\Users\\t-tyrome\\Documents\\Internship\\LandUse...       0\n",
      "3  C:\\Users\\t-tyrome\\Documents\\Internship\\LandUse...       0\n",
      "4  C:\\Users\\t-tyrome\\Documents\\Internship\\LandUse...       0\n",
      "(5880, 2)\n"
     ]
    }
   ],
   "source": [
    "csv_path = luc.generate_csv(test_image_dir, label_to_number_dict)\n",
    "test_data = pd.read_csv(csv_path)\n",
    "print(test_data.head())\n",
    "print(test_data.shape)"
   ]
  },
  {
   "cell_type": "code",
   "execution_count": 19,
   "metadata": {},
   "outputs": [
    {
     "name": "stdout",
     "output_type": "stream",
     "text": [
      "Rows Read: 5880, Total Rows Processed: 5880, Total Chunk Time: 0.085 seconds \n",
      "Beginning read for block: 1\n",
      "Rows Read: 5880, Read Time: 0.004, Transform Time: 0\n",
      "Beginning read for block: 2\n",
      "No rows remaining. Finished reading data set. \n",
      "Elapsed time: 00:21:49.4259931\n",
      "Finished writing 5880 rows.\n",
      "Writing completed.\n",
      "                                               image  label        f0   f1  \\\n",
      "0  C:\\Users\\t-tyrome\\Documents\\Internship\\LandUse...    0.0  0.131557  0.0   \n",
      "1  C:\\Users\\t-tyrome\\Documents\\Internship\\LandUse...    0.0  0.796923  0.0   \n",
      "2  C:\\Users\\t-tyrome\\Documents\\Internship\\LandUse...    0.0  0.032556  0.0   \n",
      "3  C:\\Users\\t-tyrome\\Documents\\Internship\\LandUse...    0.0  0.000000  0.0   \n",
      "4  C:\\Users\\t-tyrome\\Documents\\Internship\\LandUse...    0.0  1.626872  0.0   \n",
      "\n",
      "         f2        f3        f4        f5        f6        f7  ...   f502  \\\n",
      "0  0.000000  0.000000  0.011541  0.511309  0.000000  0.027638  ...    0.0   \n",
      "1  0.129240  0.000000  0.028886  0.483552  0.039309  0.055793  ...    0.0   \n",
      "2  0.374553  0.000000  0.003398  0.000000  0.000000  0.307696  ...    0.0   \n",
      "3  0.384161  0.000000  0.018383  0.000000  0.000000  0.035086  ...    0.0   \n",
      "4  0.940986  0.011814  0.282227  0.743577  0.227296  0.076461  ...    0.0   \n",
      "\n",
      "       f503      f504      f505      f506      f507      f508  f509      f510  \\\n",
      "0  0.000000  0.112919  0.157803  0.196699  0.000000  0.071208   0.0  0.000000   \n",
      "1  0.079744  0.018177  0.000000  0.232143  0.028985  0.223672   0.0  0.221163   \n",
      "2  0.000000  0.005041  0.000000  0.000000  0.000000  0.215475   0.0  0.000000   \n",
      "3  0.000000  0.000000  0.000000  0.000000  0.038283  0.968112   0.0  0.000000   \n",
      "4  0.667193  0.042101  0.000000  0.159071  0.437848  0.266141   0.0  0.002175   \n",
      "\n",
      "   f511  \n",
      "0   0.0  \n",
      "1   0.0  \n",
      "2   0.0  \n",
      "3   0.0  \n",
      "4   0.0  \n",
      "\n",
      "[5 rows x 514 columns]\n",
      "Rows Read: 5880, Total Rows Processed: 5880\n",
      "Total Rows written: 5880, Total time: 1.477\n",
      ", Total Chunk Time: 1.713 seconds \n"
     ]
    }
   ],
   "source": [
    "refeatureize = True\n",
    "if refeatureize:\n",
    "    featurized_test_data = luc.compute_features(test_data, cs.MICROSOFTML_MODEL_NAME, compute_context=None)\n",
    "    print(featurized_test_data.head())\n",
    "\n",
    "    test_features_sql = revo.RxSqlServerData(table=cs.TABLE_TEST_FEATURES, connection_string=connection_string)\n",
    "    revo.rx_data_step(featurized_test_data, test_features_sql, overwrite=True)"
   ]
  },
  {
   "cell_type": "markdown",
   "metadata": {},
   "source": [
    "## Evaluate Final Model on Test Set\n",
    "Only run this section once, with the final model based on validation results, in order to prevent overfitting to the test set."
   ]
  },
  {
   "cell_type": "code",
   "execution_count": 20,
   "metadata": {},
   "outputs": [
    {
     "name": "stdout",
     "output_type": "stream",
     "text": [
      "Beginning read starting with row: 1\n",
      "Rows Read: 5880, Read Time: 0.634, Transform Time: 0\n",
      "Beginning read starting with row: 5880\n",
      "No rows remaining. Finished reading data set. \n",
      "Elapsed time: 00:00:01.4913837\n",
      "Finished writing 5880 rows.\n",
      "Writing completed.\n",
      "{'Score.5': 'Developed', 'Score.4': 'Herbaceous', 'Score.3': 'Cultivated', 'Score.0': 'Barren', 'Score.2': 'Shrub', 'Score.1': 'Forest'}\n",
      "Rows Read: 5880, Total Rows Processed: 5880\n",
      "Total Rows written: 5880, Total time: 0.081\n",
      ", Total Chunk Time: 0.139 seconds \n",
      "                                               image  label    Barren  \\\n",
      "0  C:\\Users\\t-tyrome\\Documents\\Internship\\LandUse...    0.0  0.348495   \n",
      "1  C:\\Users\\t-tyrome\\Documents\\Internship\\LandUse...    0.0  0.833727   \n",
      "2  C:\\Users\\t-tyrome\\Documents\\Internship\\LandUse...    0.0  0.308901   \n",
      "3  C:\\Users\\t-tyrome\\Documents\\Internship\\LandUse...    0.0  0.084916   \n",
      "4  C:\\Users\\t-tyrome\\Documents\\Internship\\LandUse...    0.0  0.045815   \n",
      "\n",
      "     Forest     Shrub  Cultivated  Herbaceous  Developed  \n",
      "0  0.007248  0.572395    0.015999    0.054760   0.001104  \n",
      "1  0.003767  0.158723    0.002411    0.001049   0.000322  \n",
      "2  0.047378  0.633350    0.008154    0.001915   0.000303  \n",
      "3  0.040140  0.871007    0.002977    0.000777   0.000182  \n",
      "4  0.000703  0.949452    0.001378    0.002361   0.000291  \n"
     ]
    }
   ],
   "source": [
    "test_features_sql = revo.RxSqlServerData(table=cs.TABLE_TEST_FEATURES, connection_string=connection_string)\n",
    "predictions = ml.rx_predict(model, data=test_features_sql, extra_vars_to_write=[\"label\", \"image\"])\n",
    "\n",
    "number_to_label_dict = {}\n",
    "for label, number in label_to_number_dict.items():\n",
    "    number_to_label_dict[\"Score.\"+str(number)] = label\n",
    "print(number_to_label_dict)\n",
    "\n",
    "predictions=predictions.rename(columns = number_to_label_dict)\n",
    "\n",
    "predictions_sql = revo.RxSqlServerData(table=cs.TABLE_TEST_PREDICTIONS, connection_string=connection_string)\n",
    "revo.rx_data_step(predictions, predictions_sql, overwrite=True)\n",
    "print(predictions.head())"
   ]
  },
  {
   "cell_type": "code",
   "execution_count": 21,
   "metadata": {},
   "outputs": [
    {
     "name": "stdout",
     "output_type": "stream",
     "text": [
      "Accuracy (all classes):  0.823979591837\n"
     ]
    }
   ],
   "source": [
    "class_probs = np.array(predictions.drop([\"label\", \"image\"], axis=1))\n",
    "y_pred = np.argmax(class_probs, axis=1)\n",
    "y_true = np.array(predictions[\"label\"])\n",
    "\n",
    "# Accuracy (all classes)\n",
    "accuracy = accuracy_score(y_true, y_pred)\n",
    "print(\"Accuracy (all classes): \", accuracy)"
   ]
  },
  {
   "cell_type": "code",
   "execution_count": 22,
   "metadata": {},
   "outputs": [
    {
     "name": "stdout",
     "output_type": "stream",
     "text": [
      "Accuracy (Undeveloped, Cultivated, Developed):  0.940986394558\n"
     ]
    }
   ],
   "source": [
    "# Accuracy (Undeveloped, Cultivated, Developed)\n",
    "\n",
    "# Let 6 be a new label indicating undeveloped land as a whole\n",
    "y_true[y_true==label_to_number_dict[\"Barren\"]] = 6\n",
    "y_true[y_true==label_to_number_dict[\"Forest\"]] = 6\n",
    "y_true[y_true==label_to_number_dict[\"Shrub\"]] = 6\n",
    "y_true[y_true==label_to_number_dict[\"Herbaceous\"]] = 6\n",
    "\n",
    "y_pred[y_pred==label_to_number_dict[\"Barren\"]] = 6\n",
    "y_pred[y_pred==label_to_number_dict[\"Forest\"]] = 6\n",
    "y_pred[y_pred==label_to_number_dict[\"Shrub\"]] = 6\n",
    "y_pred[y_pred==label_to_number_dict[\"Herbaceous\"]] = 6\n",
    "\n",
    "accuracy = accuracy_score(y_true, y_pred)\n",
    "print(\"Accuracy (Undeveloped, Cultivated, Developed): \", accuracy)"
   ]
  },
  {
   "cell_type": "code",
   "execution_count": null,
   "metadata": {
    "collapsed": true
   },
   "outputs": [],
   "source": []
  }
 ],
 "metadata": {
  "kernelspec": {
   "display_name": "Python 3",
   "language": "python",
   "name": "python3"
  },
  "language_info": {
   "codemirror_mode": {
    "name": "ipython",
    "version": 3
   },
   "file_extension": ".py",
   "mimetype": "text/x-python",
   "name": "python",
   "nbconvert_exporter": "python",
   "pygments_lexer": "ipython3",
   "version": "3.5.2"
  }
 },
 "nbformat": 4,
 "nbformat_minor": 2
}
