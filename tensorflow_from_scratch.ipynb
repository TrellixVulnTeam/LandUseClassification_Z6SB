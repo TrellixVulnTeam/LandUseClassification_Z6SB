{
 "cells": [
  {
   "cell_type": "markdown",
   "metadata": {},
   "source": [
    "# Land Use Classification using TensorFlow from scratch\n",
    "In this notebook, we illustrate how one can produce a deep learning model to classify aerial images based on land use type (developed, forested, cultivated, etc.). We apply transfer learning with MicrosoftML to adapt a pretrained featurizer for our classification use case."
   ]
  },
  {
   "cell_type": "markdown",
   "metadata": {},
   "source": [
    "<a name=\"prep\"></a>\n",
    "## Prepare deep learning framework-specific input files\n",
    "\n",
    "If you have not generated your own training and validation sets through image extraction, download the following files and decompress them in your VM's temporary (`D:\\`) storage:\n",
    "- [Balanced training image set (~3 GB)](https://mawahstorage.blob.core.windows.net/aerialimageclassification/imagesets/balanced_training_set.zip)\n",
    "- [Balanced validation image set (~1 GB)](https://mawahstorage.blob.core.windows.net/aerialimageclassification/imagesets/balanced_validation_set.zip)\n",
    "\n",
    "The image sets linked above contain raw PNG images sorted into folders by their assigned label. \n",
    "\n",
    "Update the `training_image_dir` variable below to reflect the directory where your training and validation sets have been saved. The `label_to_number_dict` variable specifies the correspondence between the label names and a numeric code; it does not need to be modified unless you have changed the labeling scheme."
   ]
  },
  {
   "cell_type": "code",
   "execution_count": 15,
   "metadata": {},
   "outputs": [
    {
     "name": "stdout",
     "output_type": "stream",
     "text": [
      "DRIVER={ODBC Driver 13 for SQL Server};SERVER=TYLER-LAPTOP\\TYLERSQLSERVER;PORT=21816;DATABASE=land_use_database;Trusted_Connection=Yes\n",
      "The autoreload extension is already loaded. To reload it, use:\n",
      "  %reload_ext autoreload\n"
     ]
    }
   ],
   "source": [
    "# Imports\n",
    "import os, sys\n",
    "import numpy as np\n",
    "import tensorflow as tf\n",
    "import pandas as pd\n",
    "from sklearn.metrics import confusion_matrix, accuracy_score\n",
    "\n",
    "from tensorflow.contrib import learn\n",
    "from tensorflow.contrib.learn.python.learn.estimators import model_fn\n",
    "\n",
    "import land_use.connection_settings as cs\n",
    "import land_use.land_use_classification_utils as luc\n",
    "\n",
    "image_dir = cs.IMAGE_DIR\n",
    "tf_model_dir = os.path.join(cs.IMAGE_DIR, \"TFTrainCheckpoints\")\n",
    "connection_string = cs.get_connection_string()\n",
    "label_to_number_dict = cs.LABELS\n",
    "\n",
    "tf.logging.set_verbosity(tf.logging.INFO)\n",
    "\n",
    "# Autoreload when modules are changed\n",
    "%load_ext autoreload\n",
    "%autoreload 2\n",
    "\n",
    "# Show matplotlib plots inline\n",
    "%matplotlib inline"
   ]
  },
  {
   "cell_type": "markdown",
   "metadata": {},
   "source": [
    "## Load Training Data"
   ]
  },
  {
   "cell_type": "code",
   "execution_count": 2,
   "metadata": {},
   "outputs": [
    {
     "name": "stdout",
     "output_type": "stream",
     "text": [
      "Load training data\n",
      "Rows Read: 44184, Total Rows Processed: 44184, Total Chunk Time: 27.932 seconds \n",
      "\\\\Tyler-laptop\\tylersqlserver\\FileTableData\\TrainData\\Shrub\\ortho_1-1_hn_s_ca025_2016_1_100087.png\n",
      "[2 2 2 ..., 4 4 4]\n",
      "(44184, 224, 224, 3)\n",
      "(44184, 224, 224, 3)\n",
      "(44184,)\n"
     ]
    }
   ],
   "source": [
    "if 'train_data' in locals():\n",
    "    print(\"Freeing up memory...\")\n",
    "    del train_data\n",
    "    \n",
    "if 'eval_data' in locals():\n",
    "    print(\"Freeing up memory...\")\n",
    "    del eval_data\n",
    "    \n",
    "if 'test_data' in locals():\n",
    "    print(\"Freeing up memory...\")\n",
    "    del test_data\n",
    "    \n",
    "print(\"Load training data\")\n",
    "train_info = luc.gather_image_paths(image_dir, label_to_number_dict, connection_string, mode=\"train\")\n",
    "train_data, train_labels = luc.load_data(train_info)\n",
    "\n",
    "print(train_data.shape)\n",
    "print(train_labels.shape)"
   ]
  },
  {
   "cell_type": "markdown",
   "metadata": {},
   "source": [
    "## Train the Image Classifier"
   ]
  },
  {
   "cell_type": "code",
   "execution_count": 3,
   "metadata": {},
   "outputs": [
    {
     "name": "stdout",
     "output_type": "stream",
     "text": [
      "INFO:tensorflow:Using config: {'_save_checkpoints_secs': 600, '_cluster_spec': <tensorflow.python.training.server_lib.ClusterSpec object at 0x000002464B68A2E8>, '_tf_config': gpu_options {\n",
      "  per_process_gpu_memory_fraction: 1\n",
      "}\n",
      ", '_num_ps_replicas': 0, '_evaluation_master': '', '_keep_checkpoint_max': 1, '_master': '', '_tf_random_seed': None, '_save_checkpoints_steps': None, '_environment': 'local', '_num_worker_replicas': 0, '_model_dir': '\\\\\\\\Tyler-laptop\\\\tylersqlserver\\\\FileTableData\\\\TFTrainCheckpoints', '_save_summary_steps': 100, '_is_chief': True, '_task_type': None, '_keep_checkpoint_every_n_hours': 10000, '_session_config': None, '_task_id': 0}\n"
     ]
    },
    {
     "name": "stderr",
     "output_type": "stream",
     "text": [
      "INFO:tensorflow:Using config: {'_save_checkpoints_secs': 600, '_cluster_spec': <tensorflow.python.training.server_lib.ClusterSpec object at 0x000002464B68A2E8>, '_tf_config': gpu_options {\n",
      "  per_process_gpu_memory_fraction: 1\n",
      "}\n",
      ", '_num_ps_replicas': 0, '_evaluation_master': '', '_keep_checkpoint_max': 1, '_master': '', '_tf_random_seed': None, '_save_checkpoints_steps': None, '_environment': 'local', '_num_worker_replicas': 0, '_model_dir': '\\\\\\\\Tyler-laptop\\\\tylersqlserver\\\\FileTableData\\\\TFTrainCheckpoints', '_save_summary_steps': 100, '_is_chief': True, '_task_type': None, '_keep_checkpoint_every_n_hours': 10000, '_session_config': None, '_task_id': 0}\n"
     ]
    }
   ],
   "source": [
    "# Create the Estimator\n",
    "classifier = learn.SKCompat(learn.Estimator(model_fn=luc.cnn_model_fn, model_dir=tf_model_dir, config=learn.RunConfig(keep_checkpoint_max=1)))"
   ]
  },
  {
   "cell_type": "code",
   "execution_count": 4,
   "metadata": {},
   "outputs": [
    {
     "name": "stdout",
     "output_type": "stream",
     "text": [
      "                                               image  class  label\n",
      "0  \\\\Tyler-laptop\\tylersqlserver\\FileTableData\\Tr...  Shrub      2\n",
      "1  \\\\Tyler-laptop\\tylersqlserver\\FileTableData\\Tr...  Shrub      2\n",
      "2  \\\\Tyler-laptop\\tylersqlserver\\FileTableData\\Tr...  Shrub      2\n",
      "3  \\\\Tyler-laptop\\tylersqlserver\\FileTableData\\Tr...  Shrub      2\n",
      "4  \\\\Tyler-laptop\\tylersqlserver\\FileTableData\\Tr...  Shrub      2\n",
      "[2 2 2 ..., 4 4 4]\n",
      "Tensor(\"output:0\", shape=(?,), dtype=int64)\n",
      "INFO:tensorflow:Create CheckpointSaverHook.\n"
     ]
    },
    {
     "name": "stderr",
     "output_type": "stream",
     "text": [
      "INFO:tensorflow:Create CheckpointSaverHook.\n"
     ]
    },
    {
     "name": "stdout",
     "output_type": "stream",
     "text": [
      "INFO:tensorflow:Saving checkpoints for 1 into \\\\Tyler-laptop\\tylersqlserver\\FileTableData\\TFTrainCheckpoints\\model.ckpt.\n"
     ]
    },
    {
     "name": "stderr",
     "output_type": "stream",
     "text": [
      "INFO:tensorflow:Saving checkpoints for 1 into \\\\Tyler-laptop\\tylersqlserver\\FileTableData\\TFTrainCheckpoints\\model.ckpt.\n"
     ]
    },
    {
     "name": "stdout",
     "output_type": "stream",
     "text": [
      "INFO:tensorflow:loss = 69.8813, step = 1\n"
     ]
    },
    {
     "name": "stderr",
     "output_type": "stream",
     "text": [
      "INFO:tensorflow:loss = 69.8813, step = 1\n"
     ]
    },
    {
     "name": "stdout",
     "output_type": "stream",
     "text": [
      "INFO:tensorflow:Saving checkpoints for 19 into \\\\Tyler-laptop\\tylersqlserver\\FileTableData\\TFTrainCheckpoints\\model.ckpt.\n"
     ]
    },
    {
     "name": "stderr",
     "output_type": "stream",
     "text": [
      "INFO:tensorflow:Saving checkpoints for 19 into \\\\Tyler-laptop\\tylersqlserver\\FileTableData\\TFTrainCheckpoints\\model.ckpt.\n"
     ]
    },
    {
     "name": "stdout",
     "output_type": "stream",
     "text": [
      "INFO:tensorflow:Saving checkpoints for 47 into \\\\Tyler-laptop\\tylersqlserver\\FileTableData\\TFTrainCheckpoints\\model.ckpt.\n"
     ]
    },
    {
     "name": "stderr",
     "output_type": "stream",
     "text": [
      "INFO:tensorflow:Saving checkpoints for 47 into \\\\Tyler-laptop\\tylersqlserver\\FileTableData\\TFTrainCheckpoints\\model.ckpt.\n"
     ]
    },
    {
     "name": "stdout",
     "output_type": "stream",
     "text": [
      "INFO:tensorflow:Saving checkpoints for 92 into \\\\Tyler-laptop\\tylersqlserver\\FileTableData\\TFTrainCheckpoints\\model.ckpt.\n"
     ]
    },
    {
     "name": "stderr",
     "output_type": "stream",
     "text": [
      "INFO:tensorflow:Saving checkpoints for 92 into \\\\Tyler-laptop\\tylersqlserver\\FileTableData\\TFTrainCheckpoints\\model.ckpt.\n"
     ]
    },
    {
     "name": "stdout",
     "output_type": "stream",
     "text": [
      "INFO:tensorflow:global_step/sec: 0.0516028\n"
     ]
    },
    {
     "name": "stderr",
     "output_type": "stream",
     "text": [
      "INFO:tensorflow:global_step/sec: 0.0516028\n"
     ]
    },
    {
     "name": "stdout",
     "output_type": "stream",
     "text": [
      "INFO:tensorflow:loss = 0.917302, step = 101 (1937.895 sec)\n"
     ]
    },
    {
     "name": "stderr",
     "output_type": "stream",
     "text": [
      "INFO:tensorflow:loss = 0.917302, step = 101 (1937.895 sec)\n"
     ]
    },
    {
     "name": "stdout",
     "output_type": "stream",
     "text": [
      "INFO:tensorflow:Saving checkpoints for 137 into \\\\Tyler-laptop\\tylersqlserver\\FileTableData\\TFTrainCheckpoints\\model.ckpt.\n"
     ]
    },
    {
     "name": "stderr",
     "output_type": "stream",
     "text": [
      "INFO:tensorflow:Saving checkpoints for 137 into \\\\Tyler-laptop\\tylersqlserver\\FileTableData\\TFTrainCheckpoints\\model.ckpt.\n"
     ]
    },
    {
     "name": "stdout",
     "output_type": "stream",
     "text": [
      "INFO:tensorflow:Saving checkpoints for 179 into \\\\Tyler-laptop\\tylersqlserver\\FileTableData\\TFTrainCheckpoints\\model.ckpt.\n"
     ]
    },
    {
     "name": "stderr",
     "output_type": "stream",
     "text": [
      "INFO:tensorflow:Saving checkpoints for 179 into \\\\Tyler-laptop\\tylersqlserver\\FileTableData\\TFTrainCheckpoints\\model.ckpt.\n"
     ]
    },
    {
     "name": "stdout",
     "output_type": "stream",
     "text": [
      "INFO:tensorflow:global_step/sec: 0.0717951\n"
     ]
    },
    {
     "name": "stderr",
     "output_type": "stream",
     "text": [
      "INFO:tensorflow:global_step/sec: 0.0717951\n"
     ]
    },
    {
     "name": "stdout",
     "output_type": "stream",
     "text": [
      "INFO:tensorflow:loss = 0.794985, step = 201 (1392.978 sec)\n"
     ]
    },
    {
     "name": "stderr",
     "output_type": "stream",
     "text": [
      "INFO:tensorflow:loss = 0.794985, step = 201 (1392.978 sec)\n"
     ]
    },
    {
     "name": "stdout",
     "output_type": "stream",
     "text": [
      "INFO:tensorflow:Saving checkpoints for 222 into \\\\Tyler-laptop\\tylersqlserver\\FileTableData\\TFTrainCheckpoints\\model.ckpt.\n"
     ]
    },
    {
     "name": "stderr",
     "output_type": "stream",
     "text": [
      "INFO:tensorflow:Saving checkpoints for 222 into \\\\Tyler-laptop\\tylersqlserver\\FileTableData\\TFTrainCheckpoints\\model.ckpt.\n"
     ]
    },
    {
     "name": "stdout",
     "output_type": "stream",
     "text": [
      "INFO:tensorflow:Saving checkpoints for 265 into \\\\Tyler-laptop\\tylersqlserver\\FileTableData\\TFTrainCheckpoints\\model.ckpt.\n"
     ]
    },
    {
     "name": "stderr",
     "output_type": "stream",
     "text": [
      "INFO:tensorflow:Saving checkpoints for 265 into \\\\Tyler-laptop\\tylersqlserver\\FileTableData\\TFTrainCheckpoints\\model.ckpt.\n"
     ]
    },
    {
     "name": "stdout",
     "output_type": "stream",
     "text": [
      "INFO:tensorflow:global_step/sec: 0.0708754\n"
     ]
    },
    {
     "name": "stderr",
     "output_type": "stream",
     "text": [
      "INFO:tensorflow:global_step/sec: 0.0708754\n"
     ]
    },
    {
     "name": "stdout",
     "output_type": "stream",
     "text": [
      "INFO:tensorflow:loss = 0.917126, step = 301 (1410.881 sec)\n"
     ]
    },
    {
     "name": "stderr",
     "output_type": "stream",
     "text": [
      "INFO:tensorflow:loss = 0.917126, step = 301 (1410.881 sec)\n"
     ]
    },
    {
     "name": "stdout",
     "output_type": "stream",
     "text": [
      "INFO:tensorflow:Saving checkpoints for 309 into \\\\Tyler-laptop\\tylersqlserver\\FileTableData\\TFTrainCheckpoints\\model.ckpt.\n"
     ]
    },
    {
     "name": "stderr",
     "output_type": "stream",
     "text": [
      "INFO:tensorflow:Saving checkpoints for 309 into \\\\Tyler-laptop\\tylersqlserver\\FileTableData\\TFTrainCheckpoints\\model.ckpt.\n"
     ]
    },
    {
     "name": "stdout",
     "output_type": "stream",
     "text": [
      "INFO:tensorflow:Saving checkpoints for 354 into \\\\Tyler-laptop\\tylersqlserver\\FileTableData\\TFTrainCheckpoints\\model.ckpt.\n"
     ]
    },
    {
     "name": "stderr",
     "output_type": "stream",
     "text": [
      "INFO:tensorflow:Saving checkpoints for 354 into \\\\Tyler-laptop\\tylersqlserver\\FileTableData\\TFTrainCheckpoints\\model.ckpt.\n"
     ]
    },
    {
     "name": "stdout",
     "output_type": "stream",
     "text": [
      "INFO:tensorflow:Saving checkpoints for 401 into \\\\Tyler-laptop\\tylersqlserver\\FileTableData\\TFTrainCheckpoints\\model.ckpt.\n"
     ]
    },
    {
     "name": "stderr",
     "output_type": "stream",
     "text": [
      "INFO:tensorflow:Saving checkpoints for 401 into \\\\Tyler-laptop\\tylersqlserver\\FileTableData\\TFTrainCheckpoints\\model.ckpt.\n"
     ]
    },
    {
     "name": "stdout",
     "output_type": "stream",
     "text": [
      "INFO:tensorflow:global_step/sec: 0.0752805\n"
     ]
    },
    {
     "name": "stderr",
     "output_type": "stream",
     "text": [
      "INFO:tensorflow:global_step/sec: 0.0752805\n"
     ]
    },
    {
     "name": "stdout",
     "output_type": "stream",
     "text": [
      "INFO:tensorflow:loss = 0.858556, step = 401 (1328.288 sec)\n"
     ]
    },
    {
     "name": "stderr",
     "output_type": "stream",
     "text": [
      "INFO:tensorflow:loss = 0.858556, step = 401 (1328.288 sec)\n"
     ]
    },
    {
     "name": "stdout",
     "output_type": "stream",
     "text": [
      "INFO:tensorflow:Saving checkpoints for 450 into \\\\Tyler-laptop\\tylersqlserver\\FileTableData\\TFTrainCheckpoints\\model.ckpt.\n"
     ]
    },
    {
     "name": "stderr",
     "output_type": "stream",
     "text": [
      "INFO:tensorflow:Saving checkpoints for 450 into \\\\Tyler-laptop\\tylersqlserver\\FileTableData\\TFTrainCheckpoints\\model.ckpt.\n"
     ]
    },
    {
     "name": "stdout",
     "output_type": "stream",
     "text": [
      "INFO:tensorflow:Saving checkpoints for 499 into \\\\Tyler-laptop\\tylersqlserver\\FileTableData\\TFTrainCheckpoints\\model.ckpt.\n"
     ]
    },
    {
     "name": "stderr",
     "output_type": "stream",
     "text": [
      "INFO:tensorflow:Saving checkpoints for 499 into \\\\Tyler-laptop\\tylersqlserver\\FileTableData\\TFTrainCheckpoints\\model.ckpt.\n"
     ]
    },
    {
     "name": "stdout",
     "output_type": "stream",
     "text": [
      "INFO:tensorflow:global_step/sec: 0.0814059\n"
     ]
    },
    {
     "name": "stderr",
     "output_type": "stream",
     "text": [
      "INFO:tensorflow:global_step/sec: 0.0814059\n"
     ]
    },
    {
     "name": "stdout",
     "output_type": "stream",
     "text": [
      "INFO:tensorflow:loss = 0.828776, step = 501 (1228.412 sec)\n"
     ]
    },
    {
     "name": "stderr",
     "output_type": "stream",
     "text": [
      "INFO:tensorflow:loss = 0.828776, step = 501 (1228.412 sec)\n"
     ]
    },
    {
     "name": "stdout",
     "output_type": "stream",
     "text": [
      "INFO:tensorflow:Saving checkpoints for 548 into \\\\Tyler-laptop\\tylersqlserver\\FileTableData\\TFTrainCheckpoints\\model.ckpt.\n"
     ]
    },
    {
     "name": "stderr",
     "output_type": "stream",
     "text": [
      "INFO:tensorflow:Saving checkpoints for 548 into \\\\Tyler-laptop\\tylersqlserver\\FileTableData\\TFTrainCheckpoints\\model.ckpt.\n"
     ]
    },
    {
     "name": "stdout",
     "output_type": "stream",
     "text": [
      "INFO:tensorflow:Saving checkpoints for 597 into \\\\Tyler-laptop\\tylersqlserver\\FileTableData\\TFTrainCheckpoints\\model.ckpt.\n"
     ]
    },
    {
     "name": "stderr",
     "output_type": "stream",
     "text": [
      "INFO:tensorflow:Saving checkpoints for 597 into \\\\Tyler-laptop\\tylersqlserver\\FileTableData\\TFTrainCheckpoints\\model.ckpt.\n"
     ]
    },
    {
     "name": "stdout",
     "output_type": "stream",
     "text": [
      "INFO:tensorflow:global_step/sec: 0.0812873\n"
     ]
    },
    {
     "name": "stderr",
     "output_type": "stream",
     "text": [
      "INFO:tensorflow:global_step/sec: 0.0812873\n"
     ]
    },
    {
     "name": "stdout",
     "output_type": "stream",
     "text": [
      "INFO:tensorflow:loss = 0.436956, step = 601 (1230.205 sec)\n"
     ]
    },
    {
     "name": "stderr",
     "output_type": "stream",
     "text": [
      "INFO:tensorflow:loss = 0.436956, step = 601 (1230.205 sec)\n"
     ]
    },
    {
     "name": "stdout",
     "output_type": "stream",
     "text": [
      "INFO:tensorflow:Saving checkpoints for 646 into \\\\Tyler-laptop\\tylersqlserver\\FileTableData\\TFTrainCheckpoints\\model.ckpt.\n"
     ]
    },
    {
     "name": "stderr",
     "output_type": "stream",
     "text": [
      "INFO:tensorflow:Saving checkpoints for 646 into \\\\Tyler-laptop\\tylersqlserver\\FileTableData\\TFTrainCheckpoints\\model.ckpt.\n"
     ]
    },
    {
     "name": "stdout",
     "output_type": "stream",
     "text": [
      "INFO:tensorflow:Saving checkpoints for 695 into \\\\Tyler-laptop\\tylersqlserver\\FileTableData\\TFTrainCheckpoints\\model.ckpt.\n"
     ]
    },
    {
     "name": "stderr",
     "output_type": "stream",
     "text": [
      "INFO:tensorflow:Saving checkpoints for 695 into \\\\Tyler-laptop\\tylersqlserver\\FileTableData\\TFTrainCheckpoints\\model.ckpt.\n"
     ]
    },
    {
     "name": "stdout",
     "output_type": "stream",
     "text": [
      "INFO:tensorflow:global_step/sec: 0.0811165\n"
     ]
    },
    {
     "name": "stderr",
     "output_type": "stream",
     "text": [
      "INFO:tensorflow:global_step/sec: 0.0811165\n"
     ]
    },
    {
     "name": "stdout",
     "output_type": "stream",
     "text": [
      "INFO:tensorflow:loss = 0.597842, step = 701 (1232.795 sec)\n"
     ]
    },
    {
     "name": "stderr",
     "output_type": "stream",
     "text": [
      "INFO:tensorflow:loss = 0.597842, step = 701 (1232.795 sec)\n"
     ]
    },
    {
     "name": "stdout",
     "output_type": "stream",
     "text": [
      "INFO:tensorflow:Saving checkpoints for 744 into \\\\Tyler-laptop\\tylersqlserver\\FileTableData\\TFTrainCheckpoints\\model.ckpt.\n"
     ]
    },
    {
     "name": "stderr",
     "output_type": "stream",
     "text": [
      "INFO:tensorflow:Saving checkpoints for 744 into \\\\Tyler-laptop\\tylersqlserver\\FileTableData\\TFTrainCheckpoints\\model.ckpt.\n"
     ]
    },
    {
     "name": "stdout",
     "output_type": "stream",
     "text": [
      "INFO:tensorflow:Saving checkpoints for 793 into \\\\Tyler-laptop\\tylersqlserver\\FileTableData\\TFTrainCheckpoints\\model.ckpt.\n"
     ]
    },
    {
     "name": "stderr",
     "output_type": "stream",
     "text": [
      "INFO:tensorflow:Saving checkpoints for 793 into \\\\Tyler-laptop\\tylersqlserver\\FileTableData\\TFTrainCheckpoints\\model.ckpt.\n"
     ]
    },
    {
     "name": "stdout",
     "output_type": "stream",
     "text": [
      "INFO:tensorflow:global_step/sec: 0.0810327\n"
     ]
    },
    {
     "name": "stderr",
     "output_type": "stream",
     "text": [
      "INFO:tensorflow:global_step/sec: 0.0810327\n"
     ]
    },
    {
     "name": "stdout",
     "output_type": "stream",
     "text": [
      "INFO:tensorflow:loss = 0.543469, step = 801 (1234.070 sec)\n"
     ]
    },
    {
     "name": "stderr",
     "output_type": "stream",
     "text": [
      "INFO:tensorflow:loss = 0.543469, step = 801 (1234.070 sec)\n"
     ]
    },
    {
     "name": "stdout",
     "output_type": "stream",
     "text": [
      "INFO:tensorflow:Saving checkpoints for 842 into \\\\Tyler-laptop\\tylersqlserver\\FileTableData\\TFTrainCheckpoints\\model.ckpt.\n"
     ]
    },
    {
     "name": "stderr",
     "output_type": "stream",
     "text": [
      "INFO:tensorflow:Saving checkpoints for 842 into \\\\Tyler-laptop\\tylersqlserver\\FileTableData\\TFTrainCheckpoints\\model.ckpt.\n"
     ]
    },
    {
     "name": "stdout",
     "output_type": "stream",
     "text": [
      "INFO:tensorflow:Saving checkpoints for 892 into \\\\Tyler-laptop\\tylersqlserver\\FileTableData\\TFTrainCheckpoints\\model.ckpt.\n"
     ]
    },
    {
     "name": "stderr",
     "output_type": "stream",
     "text": [
      "INFO:tensorflow:Saving checkpoints for 892 into \\\\Tyler-laptop\\tylersqlserver\\FileTableData\\TFTrainCheckpoints\\model.ckpt.\n"
     ]
    },
    {
     "name": "stdout",
     "output_type": "stream",
     "text": [
      "INFO:tensorflow:global_step/sec: 0.0815801\n"
     ]
    },
    {
     "name": "stderr",
     "output_type": "stream",
     "text": [
      "INFO:tensorflow:global_step/sec: 0.0815801\n"
     ]
    },
    {
     "name": "stdout",
     "output_type": "stream",
     "text": [
      "INFO:tensorflow:loss = 0.496202, step = 901 (1225.792 sec)\n"
     ]
    },
    {
     "name": "stderr",
     "output_type": "stream",
     "text": [
      "INFO:tensorflow:loss = 0.496202, step = 901 (1225.792 sec)\n"
     ]
    },
    {
     "name": "stdout",
     "output_type": "stream",
     "text": [
      "INFO:tensorflow:Saving checkpoints for 942 into \\\\Tyler-laptop\\tylersqlserver\\FileTableData\\TFTrainCheckpoints\\model.ckpt.\n"
     ]
    },
    {
     "name": "stderr",
     "output_type": "stream",
     "text": [
      "INFO:tensorflow:Saving checkpoints for 942 into \\\\Tyler-laptop\\tylersqlserver\\FileTableData\\TFTrainCheckpoints\\model.ckpt.\n"
     ]
    },
    {
     "name": "stdout",
     "output_type": "stream",
     "text": [
      "INFO:tensorflow:Saving checkpoints for 991 into \\\\Tyler-laptop\\tylersqlserver\\FileTableData\\TFTrainCheckpoints\\model.ckpt.\n"
     ]
    },
    {
     "name": "stderr",
     "output_type": "stream",
     "text": [
      "INFO:tensorflow:Saving checkpoints for 991 into \\\\Tyler-laptop\\tylersqlserver\\FileTableData\\TFTrainCheckpoints\\model.ckpt.\n"
     ]
    },
    {
     "name": "stdout",
     "output_type": "stream",
     "text": [
      "INFO:tensorflow:global_step/sec: 0.0815757\n"
     ]
    },
    {
     "name": "stderr",
     "output_type": "stream",
     "text": [
      "INFO:tensorflow:global_step/sec: 0.0815757\n"
     ]
    },
    {
     "name": "stdout",
     "output_type": "stream",
     "text": [
      "INFO:tensorflow:loss = 0.57736, step = 1001 (1226.025 sec)\n"
     ]
    },
    {
     "name": "stderr",
     "output_type": "stream",
     "text": [
      "INFO:tensorflow:loss = 0.57736, step = 1001 (1226.025 sec)\n"
     ]
    },
    {
     "name": "stdout",
     "output_type": "stream",
     "text": [
      "INFO:tensorflow:Saving checkpoints for 1040 into \\\\Tyler-laptop\\tylersqlserver\\FileTableData\\TFTrainCheckpoints\\model.ckpt.\n"
     ]
    },
    {
     "name": "stderr",
     "output_type": "stream",
     "text": [
      "INFO:tensorflow:Saving checkpoints for 1040 into \\\\Tyler-laptop\\tylersqlserver\\FileTableData\\TFTrainCheckpoints\\model.ckpt.\n"
     ]
    },
    {
     "name": "stdout",
     "output_type": "stream",
     "text": [
      "INFO:tensorflow:Saving checkpoints for 1089 into \\\\Tyler-laptop\\tylersqlserver\\FileTableData\\TFTrainCheckpoints\\model.ckpt.\n"
     ]
    },
    {
     "name": "stderr",
     "output_type": "stream",
     "text": [
      "INFO:tensorflow:Saving checkpoints for 1089 into \\\\Tyler-laptop\\tylersqlserver\\FileTableData\\TFTrainCheckpoints\\model.ckpt.\n"
     ]
    },
    {
     "name": "stdout",
     "output_type": "stream",
     "text": [
      "INFO:tensorflow:global_step/sec: 0.08135\n"
     ]
    },
    {
     "name": "stderr",
     "output_type": "stream",
     "text": [
      "INFO:tensorflow:global_step/sec: 0.08135\n"
     ]
    },
    {
     "name": "stdout",
     "output_type": "stream",
     "text": [
      "INFO:tensorflow:loss = 0.550828, step = 1101 (1229.147 sec)\n"
     ]
    },
    {
     "name": "stderr",
     "output_type": "stream",
     "text": [
      "INFO:tensorflow:loss = 0.550828, step = 1101 (1229.147 sec)\n"
     ]
    },
    {
     "name": "stdout",
     "output_type": "stream",
     "text": [
      "INFO:tensorflow:Saving checkpoints for 1138 into \\\\Tyler-laptop\\tylersqlserver\\FileTableData\\TFTrainCheckpoints\\model.ckpt.\n"
     ]
    },
    {
     "name": "stderr",
     "output_type": "stream",
     "text": [
      "INFO:tensorflow:Saving checkpoints for 1138 into \\\\Tyler-laptop\\tylersqlserver\\FileTableData\\TFTrainCheckpoints\\model.ckpt.\n"
     ]
    },
    {
     "name": "stdout",
     "output_type": "stream",
     "text": [
      "INFO:tensorflow:Saving checkpoints for 1187 into \\\\Tyler-laptop\\tylersqlserver\\FileTableData\\TFTrainCheckpoints\\model.ckpt.\n"
     ]
    },
    {
     "name": "stderr",
     "output_type": "stream",
     "text": [
      "INFO:tensorflow:Saving checkpoints for 1187 into \\\\Tyler-laptop\\tylersqlserver\\FileTableData\\TFTrainCheckpoints\\model.ckpt.\n"
     ]
    },
    {
     "name": "stdout",
     "output_type": "stream",
     "text": [
      "INFO:tensorflow:global_step/sec: 0.0811983\n"
     ]
    },
    {
     "name": "stderr",
     "output_type": "stream",
     "text": [
      "INFO:tensorflow:global_step/sec: 0.0811983\n"
     ]
    },
    {
     "name": "stdout",
     "output_type": "stream",
     "text": [
      "INFO:tensorflow:loss = 0.642858, step = 1201 (1231.537 sec)\n"
     ]
    },
    {
     "name": "stderr",
     "output_type": "stream",
     "text": [
      "INFO:tensorflow:loss = 0.642858, step = 1201 (1231.537 sec)\n"
     ]
    },
    {
     "name": "stdout",
     "output_type": "stream",
     "text": [
      "INFO:tensorflow:Saving checkpoints for 1236 into \\\\Tyler-laptop\\tylersqlserver\\FileTableData\\TFTrainCheckpoints\\model.ckpt.\n"
     ]
    },
    {
     "name": "stderr",
     "output_type": "stream",
     "text": [
      "INFO:tensorflow:Saving checkpoints for 1236 into \\\\Tyler-laptop\\tylersqlserver\\FileTableData\\TFTrainCheckpoints\\model.ckpt.\n"
     ]
    },
    {
     "name": "stdout",
     "output_type": "stream",
     "text": [
      "INFO:tensorflow:Saving checkpoints for 1285 into \\\\Tyler-laptop\\tylersqlserver\\FileTableData\\TFTrainCheckpoints\\model.ckpt.\n"
     ]
    },
    {
     "name": "stderr",
     "output_type": "stream",
     "text": [
      "INFO:tensorflow:Saving checkpoints for 1285 into \\\\Tyler-laptop\\tylersqlserver\\FileTableData\\TFTrainCheckpoints\\model.ckpt.\n"
     ]
    },
    {
     "name": "stdout",
     "output_type": "stream",
     "text": [
      "INFO:tensorflow:global_step/sec: 0.0810696\n"
     ]
    },
    {
     "name": "stderr",
     "output_type": "stream",
     "text": [
      "INFO:tensorflow:global_step/sec: 0.0810696\n"
     ]
    },
    {
     "name": "stdout",
     "output_type": "stream",
     "text": [
      "INFO:tensorflow:loss = 0.450208, step = 1301 (1233.524 sec)\n"
     ]
    },
    {
     "name": "stderr",
     "output_type": "stream",
     "text": [
      "INFO:tensorflow:loss = 0.450208, step = 1301 (1233.524 sec)\n"
     ]
    },
    {
     "name": "stdout",
     "output_type": "stream",
     "text": [
      "INFO:tensorflow:Saving checkpoints for 1335 into \\\\Tyler-laptop\\tylersqlserver\\FileTableData\\TFTrainCheckpoints\\model.ckpt.\n"
     ]
    },
    {
     "name": "stderr",
     "output_type": "stream",
     "text": [
      "INFO:tensorflow:Saving checkpoints for 1335 into \\\\Tyler-laptop\\tylersqlserver\\FileTableData\\TFTrainCheckpoints\\model.ckpt.\n"
     ]
    },
    {
     "name": "stdout",
     "output_type": "stream",
     "text": [
      "INFO:tensorflow:Saving checkpoints for 1384 into \\\\Tyler-laptop\\tylersqlserver\\FileTableData\\TFTrainCheckpoints\\model.ckpt.\n"
     ]
    },
    {
     "name": "stderr",
     "output_type": "stream",
     "text": [
      "INFO:tensorflow:Saving checkpoints for 1384 into \\\\Tyler-laptop\\tylersqlserver\\FileTableData\\TFTrainCheckpoints\\model.ckpt.\n"
     ]
    },
    {
     "name": "stdout",
     "output_type": "stream",
     "text": [
      "INFO:tensorflow:global_step/sec: 0.0819141\n"
     ]
    },
    {
     "name": "stderr",
     "output_type": "stream",
     "text": [
      "INFO:tensorflow:global_step/sec: 0.0819141\n"
     ]
    },
    {
     "name": "stdout",
     "output_type": "stream",
     "text": [
      "INFO:tensorflow:loss = 0.41915, step = 1401 (1220.791 sec)\n"
     ]
    },
    {
     "name": "stderr",
     "output_type": "stream",
     "text": [
      "INFO:tensorflow:loss = 0.41915, step = 1401 (1220.791 sec)\n"
     ]
    },
    {
     "name": "stdout",
     "output_type": "stream",
     "text": [
      "INFO:tensorflow:Saving checkpoints for 1434 into \\\\Tyler-laptop\\tylersqlserver\\FileTableData\\TFTrainCheckpoints\\model.ckpt.\n"
     ]
    },
    {
     "name": "stderr",
     "output_type": "stream",
     "text": [
      "INFO:tensorflow:Saving checkpoints for 1434 into \\\\Tyler-laptop\\tylersqlserver\\FileTableData\\TFTrainCheckpoints\\model.ckpt.\n"
     ]
    },
    {
     "name": "stdout",
     "output_type": "stream",
     "text": [
      "INFO:tensorflow:Saving checkpoints for 1483 into \\\\Tyler-laptop\\tylersqlserver\\FileTableData\\TFTrainCheckpoints\\model.ckpt.\n"
     ]
    },
    {
     "name": "stderr",
     "output_type": "stream",
     "text": [
      "INFO:tensorflow:Saving checkpoints for 1483 into \\\\Tyler-laptop\\tylersqlserver\\FileTableData\\TFTrainCheckpoints\\model.ckpt.\n"
     ]
    },
    {
     "name": "stdout",
     "output_type": "stream",
     "text": [
      "INFO:tensorflow:global_step/sec: 0.0811494\n"
     ]
    },
    {
     "name": "stderr",
     "output_type": "stream",
     "text": [
      "INFO:tensorflow:global_step/sec: 0.0811494\n"
     ]
    },
    {
     "name": "stdout",
     "output_type": "stream",
     "text": [
      "INFO:tensorflow:loss = 0.29639, step = 1501 (1232.482 sec)\n"
     ]
    },
    {
     "name": "stderr",
     "output_type": "stream",
     "text": [
      "INFO:tensorflow:loss = 0.29639, step = 1501 (1232.482 sec)\n"
     ]
    },
    {
     "name": "stdout",
     "output_type": "stream",
     "text": [
      "INFO:tensorflow:Saving checkpoints for 1532 into \\\\Tyler-laptop\\tylersqlserver\\FileTableData\\TFTrainCheckpoints\\model.ckpt.\n"
     ]
    },
    {
     "name": "stderr",
     "output_type": "stream",
     "text": [
      "INFO:tensorflow:Saving checkpoints for 1532 into \\\\Tyler-laptop\\tylersqlserver\\FileTableData\\TFTrainCheckpoints\\model.ckpt.\n"
     ]
    },
    {
     "name": "stdout",
     "output_type": "stream",
     "text": [
      "INFO:tensorflow:Saving checkpoints for 1579 into \\\\Tyler-laptop\\tylersqlserver\\FileTableData\\TFTrainCheckpoints\\model.ckpt.\n"
     ]
    },
    {
     "name": "stderr",
     "output_type": "stream",
     "text": [
      "INFO:tensorflow:Saving checkpoints for 1579 into \\\\Tyler-laptop\\tylersqlserver\\FileTableData\\TFTrainCheckpoints\\model.ckpt.\n"
     ]
    },
    {
     "name": "stdout",
     "output_type": "stream",
     "text": [
      "INFO:tensorflow:global_step/sec: 0.0797145\n"
     ]
    },
    {
     "name": "stderr",
     "output_type": "stream",
     "text": [
      "INFO:tensorflow:global_step/sec: 0.0797145\n"
     ]
    },
    {
     "name": "stdout",
     "output_type": "stream",
     "text": [
      "INFO:tensorflow:loss = 0.385348, step = 1601 (1254.305 sec)\n"
     ]
    },
    {
     "name": "stderr",
     "output_type": "stream",
     "text": [
      "INFO:tensorflow:loss = 0.385348, step = 1601 (1254.305 sec)\n"
     ]
    },
    {
     "name": "stdout",
     "output_type": "stream",
     "text": [
      "INFO:tensorflow:Saving checkpoints for 1628 into \\\\Tyler-laptop\\tylersqlserver\\FileTableData\\TFTrainCheckpoints\\model.ckpt.\n"
     ]
    },
    {
     "name": "stderr",
     "output_type": "stream",
     "text": [
      "INFO:tensorflow:Saving checkpoints for 1628 into \\\\Tyler-laptop\\tylersqlserver\\FileTableData\\TFTrainCheckpoints\\model.ckpt.\n"
     ]
    },
    {
     "name": "stdout",
     "output_type": "stream",
     "text": [
      "INFO:tensorflow:Saving checkpoints for 1677 into \\\\Tyler-laptop\\tylersqlserver\\FileTableData\\TFTrainCheckpoints\\model.ckpt.\n"
     ]
    },
    {
     "name": "stderr",
     "output_type": "stream",
     "text": [
      "INFO:tensorflow:Saving checkpoints for 1677 into \\\\Tyler-laptop\\tylersqlserver\\FileTableData\\TFTrainCheckpoints\\model.ckpt.\n"
     ]
    },
    {
     "name": "stdout",
     "output_type": "stream",
     "text": [
      "INFO:tensorflow:global_step/sec: 0.0810386\n"
     ]
    },
    {
     "name": "stderr",
     "output_type": "stream",
     "text": [
      "INFO:tensorflow:global_step/sec: 0.0810386\n"
     ]
    },
    {
     "name": "stdout",
     "output_type": "stream",
     "text": [
      "INFO:tensorflow:loss = 0.512555, step = 1701 (1234.007 sec)\n"
     ]
    },
    {
     "name": "stderr",
     "output_type": "stream",
     "text": [
      "INFO:tensorflow:loss = 0.512555, step = 1701 (1234.007 sec)\n"
     ]
    },
    {
     "name": "stdout",
     "output_type": "stream",
     "text": [
      "INFO:tensorflow:Saving checkpoints for 1726 into \\\\Tyler-laptop\\tylersqlserver\\FileTableData\\TFTrainCheckpoints\\model.ckpt.\n"
     ]
    },
    {
     "name": "stderr",
     "output_type": "stream",
     "text": [
      "INFO:tensorflow:Saving checkpoints for 1726 into \\\\Tyler-laptop\\tylersqlserver\\FileTableData\\TFTrainCheckpoints\\model.ckpt.\n"
     ]
    },
    {
     "name": "stdout",
     "output_type": "stream",
     "text": [
      "INFO:tensorflow:Saving checkpoints for 1776 into \\\\Tyler-laptop\\tylersqlserver\\FileTableData\\TFTrainCheckpoints\\model.ckpt.\n"
     ]
    },
    {
     "name": "stderr",
     "output_type": "stream",
     "text": [
      "INFO:tensorflow:Saving checkpoints for 1776 into \\\\Tyler-laptop\\tylersqlserver\\FileTableData\\TFTrainCheckpoints\\model.ckpt.\n"
     ]
    },
    {
     "name": "stdout",
     "output_type": "stream",
     "text": [
      "INFO:tensorflow:global_step/sec: 0.0818445\n"
     ]
    },
    {
     "name": "stderr",
     "output_type": "stream",
     "text": [
      "INFO:tensorflow:global_step/sec: 0.0818445\n"
     ]
    },
    {
     "name": "stdout",
     "output_type": "stream",
     "text": [
      "INFO:tensorflow:loss = 0.419764, step = 1801 (1221.801 sec)\n"
     ]
    },
    {
     "name": "stderr",
     "output_type": "stream",
     "text": [
      "INFO:tensorflow:loss = 0.419764, step = 1801 (1221.801 sec)\n"
     ]
    },
    {
     "name": "stdout",
     "output_type": "stream",
     "text": [
      "INFO:tensorflow:Saving checkpoints for 1826 into \\\\Tyler-laptop\\tylersqlserver\\FileTableData\\TFTrainCheckpoints\\model.ckpt.\n"
     ]
    },
    {
     "name": "stderr",
     "output_type": "stream",
     "text": [
      "INFO:tensorflow:Saving checkpoints for 1826 into \\\\Tyler-laptop\\tylersqlserver\\FileTableData\\TFTrainCheckpoints\\model.ckpt.\n"
     ]
    },
    {
     "name": "stdout",
     "output_type": "stream",
     "text": [
      "INFO:tensorflow:Saving checkpoints for 1876 into \\\\Tyler-laptop\\tylersqlserver\\FileTableData\\TFTrainCheckpoints\\model.ckpt.\n"
     ]
    },
    {
     "name": "stderr",
     "output_type": "stream",
     "text": [
      "INFO:tensorflow:Saving checkpoints for 1876 into \\\\Tyler-laptop\\tylersqlserver\\FileTableData\\TFTrainCheckpoints\\model.ckpt.\n"
     ]
    },
    {
     "name": "stdout",
     "output_type": "stream",
     "text": [
      "INFO:tensorflow:global_step/sec: 0.0819516\n"
     ]
    },
    {
     "name": "stderr",
     "output_type": "stream",
     "text": [
      "INFO:tensorflow:global_step/sec: 0.0819516\n"
     ]
    },
    {
     "name": "stdout",
     "output_type": "stream",
     "text": [
      "INFO:tensorflow:loss = 0.376035, step = 1901 (1220.311 sec)\n"
     ]
    },
    {
     "name": "stderr",
     "output_type": "stream",
     "text": [
      "INFO:tensorflow:loss = 0.376035, step = 1901 (1220.311 sec)\n"
     ]
    },
    {
     "name": "stdout",
     "output_type": "stream",
     "text": [
      "INFO:tensorflow:Saving checkpoints for 1925 into \\\\Tyler-laptop\\tylersqlserver\\FileTableData\\TFTrainCheckpoints\\model.ckpt.\n"
     ]
    },
    {
     "name": "stderr",
     "output_type": "stream",
     "text": [
      "INFO:tensorflow:Saving checkpoints for 1925 into \\\\Tyler-laptop\\tylersqlserver\\FileTableData\\TFTrainCheckpoints\\model.ckpt.\n"
     ]
    },
    {
     "name": "stdout",
     "output_type": "stream",
     "text": [
      "INFO:tensorflow:Saving checkpoints for 1974 into \\\\Tyler-laptop\\tylersqlserver\\FileTableData\\TFTrainCheckpoints\\model.ckpt.\n"
     ]
    },
    {
     "name": "stderr",
     "output_type": "stream",
     "text": [
      "INFO:tensorflow:Saving checkpoints for 1974 into \\\\Tyler-laptop\\tylersqlserver\\FileTableData\\TFTrainCheckpoints\\model.ckpt.\n"
     ]
    },
    {
     "name": "stdout",
     "output_type": "stream",
     "text": [
      "INFO:tensorflow:global_step/sec: 0.0811383\n"
     ]
    },
    {
     "name": "stderr",
     "output_type": "stream",
     "text": [
      "INFO:tensorflow:global_step/sec: 0.0811383\n"
     ]
    },
    {
     "name": "stdout",
     "output_type": "stream",
     "text": [
      "INFO:tensorflow:loss = 0.441421, step = 2001 (1232.370 sec)\n"
     ]
    },
    {
     "name": "stderr",
     "output_type": "stream",
     "text": [
      "INFO:tensorflow:loss = 0.441421, step = 2001 (1232.370 sec)\n"
     ]
    },
    {
     "name": "stdout",
     "output_type": "stream",
     "text": [
      "INFO:tensorflow:Saving checkpoints for 2023 into \\\\Tyler-laptop\\tylersqlserver\\FileTableData\\TFTrainCheckpoints\\model.ckpt.\n"
     ]
    },
    {
     "name": "stderr",
     "output_type": "stream",
     "text": [
      "INFO:tensorflow:Saving checkpoints for 2023 into \\\\Tyler-laptop\\tylersqlserver\\FileTableData\\TFTrainCheckpoints\\model.ckpt.\n"
     ]
    },
    {
     "name": "stdout",
     "output_type": "stream",
     "text": [
      "INFO:tensorflow:Saving checkpoints for 2072 into \\\\Tyler-laptop\\tylersqlserver\\FileTableData\\TFTrainCheckpoints\\model.ckpt.\n"
     ]
    },
    {
     "name": "stderr",
     "output_type": "stream",
     "text": [
      "INFO:tensorflow:Saving checkpoints for 2072 into \\\\Tyler-laptop\\tylersqlserver\\FileTableData\\TFTrainCheckpoints\\model.ckpt.\n"
     ]
    },
    {
     "name": "stdout",
     "output_type": "stream",
     "text": [
      "INFO:tensorflow:global_step/sec: 0.0805458\n"
     ]
    },
    {
     "name": "stderr",
     "output_type": "stream",
     "text": [
      "INFO:tensorflow:global_step/sec: 0.0805458\n"
     ]
    },
    {
     "name": "stdout",
     "output_type": "stream",
     "text": [
      "INFO:tensorflow:loss = 0.253936, step = 2101 (1241.624 sec)\n"
     ]
    },
    {
     "name": "stderr",
     "output_type": "stream",
     "text": [
      "INFO:tensorflow:loss = 0.253936, step = 2101 (1241.624 sec)\n"
     ]
    },
    {
     "name": "stdout",
     "output_type": "stream",
     "text": [
      "INFO:tensorflow:Saving checkpoints for 2121 into \\\\Tyler-laptop\\tylersqlserver\\FileTableData\\TFTrainCheckpoints\\model.ckpt.\n"
     ]
    },
    {
     "name": "stderr",
     "output_type": "stream",
     "text": [
      "INFO:tensorflow:Saving checkpoints for 2121 into \\\\Tyler-laptop\\tylersqlserver\\FileTableData\\TFTrainCheckpoints\\model.ckpt.\n"
     ]
    },
    {
     "name": "stdout",
     "output_type": "stream",
     "text": [
      "INFO:tensorflow:Saving checkpoints for 2170 into \\\\Tyler-laptop\\tylersqlserver\\FileTableData\\TFTrainCheckpoints\\model.ckpt.\n"
     ]
    },
    {
     "name": "stderr",
     "output_type": "stream",
     "text": [
      "INFO:tensorflow:Saving checkpoints for 2170 into \\\\Tyler-laptop\\tylersqlserver\\FileTableData\\TFTrainCheckpoints\\model.ckpt.\n"
     ]
    },
    {
     "name": "stdout",
     "output_type": "stream",
     "text": [
      "INFO:tensorflow:global_step/sec: 0.0808276\n"
     ]
    },
    {
     "name": "stderr",
     "output_type": "stream",
     "text": [
      "INFO:tensorflow:global_step/sec: 0.0808276\n"
     ]
    },
    {
     "name": "stdout",
     "output_type": "stream",
     "text": [
      "INFO:tensorflow:loss = 0.292177, step = 2201 (1237.201 sec)\n"
     ]
    },
    {
     "name": "stderr",
     "output_type": "stream",
     "text": [
      "INFO:tensorflow:loss = 0.292177, step = 2201 (1237.201 sec)\n"
     ]
    },
    {
     "name": "stdout",
     "output_type": "stream",
     "text": [
      "INFO:tensorflow:Saving checkpoints for 2220 into \\\\Tyler-laptop\\tylersqlserver\\FileTableData\\TFTrainCheckpoints\\model.ckpt.\n"
     ]
    },
    {
     "name": "stderr",
     "output_type": "stream",
     "text": [
      "INFO:tensorflow:Saving checkpoints for 2220 into \\\\Tyler-laptop\\tylersqlserver\\FileTableData\\TFTrainCheckpoints\\model.ckpt.\n"
     ]
    },
    {
     "name": "stdout",
     "output_type": "stream",
     "text": [
      "INFO:tensorflow:Saving checkpoints for 2270 into \\\\Tyler-laptop\\tylersqlserver\\FileTableData\\TFTrainCheckpoints\\model.ckpt.\n"
     ]
    },
    {
     "name": "stderr",
     "output_type": "stream",
     "text": [
      "INFO:tensorflow:Saving checkpoints for 2270 into \\\\Tyler-laptop\\tylersqlserver\\FileTableData\\TFTrainCheckpoints\\model.ckpt.\n"
     ]
    },
    {
     "name": "stdout",
     "output_type": "stream",
     "text": [
      "INFO:tensorflow:global_step/sec: 0.0823205\n"
     ]
    },
    {
     "name": "stderr",
     "output_type": "stream",
     "text": [
      "INFO:tensorflow:global_step/sec: 0.0823205\n"
     ]
    },
    {
     "name": "stdout",
     "output_type": "stream",
     "text": [
      "INFO:tensorflow:loss = 0.239853, step = 2301 (1214.670 sec)\n"
     ]
    },
    {
     "name": "stderr",
     "output_type": "stream",
     "text": [
      "INFO:tensorflow:loss = 0.239853, step = 2301 (1214.670 sec)\n"
     ]
    },
    {
     "name": "stdout",
     "output_type": "stream",
     "text": [
      "INFO:tensorflow:Saving checkpoints for 2319 into \\\\Tyler-laptop\\tylersqlserver\\FileTableData\\TFTrainCheckpoints\\model.ckpt.\n"
     ]
    },
    {
     "name": "stderr",
     "output_type": "stream",
     "text": [
      "INFO:tensorflow:Saving checkpoints for 2319 into \\\\Tyler-laptop\\tylersqlserver\\FileTableData\\TFTrainCheckpoints\\model.ckpt.\n"
     ]
    },
    {
     "name": "stdout",
     "output_type": "stream",
     "text": [
      "INFO:tensorflow:Saving checkpoints for 2369 into \\\\Tyler-laptop\\tylersqlserver\\FileTableData\\TFTrainCheckpoints\\model.ckpt.\n"
     ]
    },
    {
     "name": "stderr",
     "output_type": "stream",
     "text": [
      "INFO:tensorflow:Saving checkpoints for 2369 into \\\\Tyler-laptop\\tylersqlserver\\FileTableData\\TFTrainCheckpoints\\model.ckpt.\n"
     ]
    },
    {
     "name": "stdout",
     "output_type": "stream",
     "text": [
      "INFO:tensorflow:global_step/sec: 0.0815445\n"
     ]
    },
    {
     "name": "stderr",
     "output_type": "stream",
     "text": [
      "INFO:tensorflow:global_step/sec: 0.0815445\n"
     ]
    },
    {
     "name": "stdout",
     "output_type": "stream",
     "text": [
      "INFO:tensorflow:loss = 0.193134, step = 2401 (1226.332 sec)\n"
     ]
    },
    {
     "name": "stderr",
     "output_type": "stream",
     "text": [
      "INFO:tensorflow:loss = 0.193134, step = 2401 (1226.332 sec)\n"
     ]
    },
    {
     "name": "stdout",
     "output_type": "stream",
     "text": [
      "INFO:tensorflow:Saving checkpoints for 2418 into \\\\Tyler-laptop\\tylersqlserver\\FileTableData\\TFTrainCheckpoints\\model.ckpt.\n"
     ]
    },
    {
     "name": "stderr",
     "output_type": "stream",
     "text": [
      "INFO:tensorflow:Saving checkpoints for 2418 into \\\\Tyler-laptop\\tylersqlserver\\FileTableData\\TFTrainCheckpoints\\model.ckpt.\n"
     ]
    },
    {
     "name": "stdout",
     "output_type": "stream",
     "text": [
      "INFO:tensorflow:Saving checkpoints for 2467 into \\\\Tyler-laptop\\tylersqlserver\\FileTableData\\TFTrainCheckpoints\\model.ckpt.\n"
     ]
    },
    {
     "name": "stderr",
     "output_type": "stream",
     "text": [
      "INFO:tensorflow:Saving checkpoints for 2467 into \\\\Tyler-laptop\\tylersqlserver\\FileTableData\\TFTrainCheckpoints\\model.ckpt.\n"
     ]
    },
    {
     "name": "stdout",
     "output_type": "stream",
     "text": [
      "INFO:tensorflow:global_step/sec: 0.080879\n"
     ]
    },
    {
     "name": "stderr",
     "output_type": "stream",
     "text": [
      "INFO:tensorflow:global_step/sec: 0.080879\n"
     ]
    },
    {
     "name": "stdout",
     "output_type": "stream",
     "text": [
      "INFO:tensorflow:loss = 0.289218, step = 2501 (1236.422 sec)\n"
     ]
    },
    {
     "name": "stderr",
     "output_type": "stream",
     "text": [
      "INFO:tensorflow:loss = 0.289218, step = 2501 (1236.422 sec)\n"
     ]
    },
    {
     "name": "stdout",
     "output_type": "stream",
     "text": [
      "INFO:tensorflow:Saving checkpoints for 2516 into \\\\Tyler-laptop\\tylersqlserver\\FileTableData\\TFTrainCheckpoints\\model.ckpt.\n"
     ]
    },
    {
     "name": "stderr",
     "output_type": "stream",
     "text": [
      "INFO:tensorflow:Saving checkpoints for 2516 into \\\\Tyler-laptop\\tylersqlserver\\FileTableData\\TFTrainCheckpoints\\model.ckpt.\n"
     ]
    },
    {
     "name": "stdout",
     "output_type": "stream",
     "text": [
      "INFO:tensorflow:Saving checkpoints for 2565 into \\\\Tyler-laptop\\tylersqlserver\\FileTableData\\TFTrainCheckpoints\\model.ckpt.\n"
     ]
    },
    {
     "name": "stderr",
     "output_type": "stream",
     "text": [
      "INFO:tensorflow:Saving checkpoints for 2565 into \\\\Tyler-laptop\\tylersqlserver\\FileTableData\\TFTrainCheckpoints\\model.ckpt.\n"
     ]
    },
    {
     "name": "stdout",
     "output_type": "stream",
     "text": [
      "INFO:tensorflow:global_step/sec: 0.0810205\n"
     ]
    },
    {
     "name": "stderr",
     "output_type": "stream",
     "text": [
      "INFO:tensorflow:global_step/sec: 0.0810205\n"
     ]
    },
    {
     "name": "stdout",
     "output_type": "stream",
     "text": [
      "INFO:tensorflow:loss = 0.765836, step = 2601 (1234.412 sec)\n"
     ]
    },
    {
     "name": "stderr",
     "output_type": "stream",
     "text": [
      "INFO:tensorflow:loss = 0.765836, step = 2601 (1234.412 sec)\n"
     ]
    },
    {
     "name": "stdout",
     "output_type": "stream",
     "text": [
      "INFO:tensorflow:Saving checkpoints for 2614 into \\\\Tyler-laptop\\tylersqlserver\\FileTableData\\TFTrainCheckpoints\\model.ckpt.\n"
     ]
    },
    {
     "name": "stderr",
     "output_type": "stream",
     "text": [
      "INFO:tensorflow:Saving checkpoints for 2614 into \\\\Tyler-laptop\\tylersqlserver\\FileTableData\\TFTrainCheckpoints\\model.ckpt.\n"
     ]
    },
    {
     "name": "stdout",
     "output_type": "stream",
     "text": [
      "INFO:tensorflow:Saving checkpoints for 2663 into \\\\Tyler-laptop\\tylersqlserver\\FileTableData\\TFTrainCheckpoints\\model.ckpt.\n"
     ]
    },
    {
     "name": "stderr",
     "output_type": "stream",
     "text": [
      "INFO:tensorflow:Saving checkpoints for 2663 into \\\\Tyler-laptop\\tylersqlserver\\FileTableData\\TFTrainCheckpoints\\model.ckpt.\n"
     ]
    },
    {
     "name": "stdout",
     "output_type": "stream",
     "text": [
      "INFO:tensorflow:global_step/sec: 0.0806471\n"
     ]
    },
    {
     "name": "stderr",
     "output_type": "stream",
     "text": [
      "INFO:tensorflow:global_step/sec: 0.0806471\n"
     ]
    },
    {
     "name": "stdout",
     "output_type": "stream",
     "text": [
      "INFO:tensorflow:loss = 0.358462, step = 2701 (1239.799 sec)\n"
     ]
    },
    {
     "name": "stderr",
     "output_type": "stream",
     "text": [
      "INFO:tensorflow:loss = 0.358462, step = 2701 (1239.799 sec)\n"
     ]
    },
    {
     "name": "stdout",
     "output_type": "stream",
     "text": [
      "INFO:tensorflow:Saving checkpoints for 2711 into \\\\Tyler-laptop\\tylersqlserver\\FileTableData\\TFTrainCheckpoints\\model.ckpt.\n"
     ]
    },
    {
     "name": "stderr",
     "output_type": "stream",
     "text": [
      "INFO:tensorflow:Saving checkpoints for 2711 into \\\\Tyler-laptop\\tylersqlserver\\FileTableData\\TFTrainCheckpoints\\model.ckpt.\n"
     ]
    },
    {
     "name": "stdout",
     "output_type": "stream",
     "text": [
      "INFO:tensorflow:Saving checkpoints for 2758 into \\\\Tyler-laptop\\tylersqlserver\\FileTableData\\TFTrainCheckpoints\\model.ckpt.\n"
     ]
    },
    {
     "name": "stderr",
     "output_type": "stream",
     "text": [
      "INFO:tensorflow:Saving checkpoints for 2758 into \\\\Tyler-laptop\\tylersqlserver\\FileTableData\\TFTrainCheckpoints\\model.ckpt.\n"
     ]
    },
    {
     "name": "stdout",
     "output_type": "stream",
     "text": [
      "INFO:tensorflow:global_step/sec: 0.0784116\n"
     ]
    },
    {
     "name": "stderr",
     "output_type": "stream",
     "text": [
      "INFO:tensorflow:global_step/sec: 0.0784116\n"
     ]
    },
    {
     "name": "stdout",
     "output_type": "stream",
     "text": [
      "INFO:tensorflow:loss = 0.467156, step = 2801 (1275.321 sec)\n"
     ]
    },
    {
     "name": "stderr",
     "output_type": "stream",
     "text": [
      "INFO:tensorflow:loss = 0.467156, step = 2801 (1275.321 sec)\n"
     ]
    },
    {
     "name": "stdout",
     "output_type": "stream",
     "text": [
      "INFO:tensorflow:Saving checkpoints for 2806 into \\\\Tyler-laptop\\tylersqlserver\\FileTableData\\TFTrainCheckpoints\\model.ckpt.\n"
     ]
    },
    {
     "name": "stderr",
     "output_type": "stream",
     "text": [
      "INFO:tensorflow:Saving checkpoints for 2806 into \\\\Tyler-laptop\\tylersqlserver\\FileTableData\\TFTrainCheckpoints\\model.ckpt.\n"
     ]
    },
    {
     "name": "stdout",
     "output_type": "stream",
     "text": [
      "INFO:tensorflow:Saving checkpoints for 2855 into \\\\Tyler-laptop\\tylersqlserver\\FileTableData\\TFTrainCheckpoints\\model.ckpt.\n"
     ]
    },
    {
     "name": "stderr",
     "output_type": "stream",
     "text": [
      "INFO:tensorflow:Saving checkpoints for 2855 into \\\\Tyler-laptop\\tylersqlserver\\FileTableData\\TFTrainCheckpoints\\model.ckpt.\n"
     ]
    },
    {
     "name": "stdout",
     "output_type": "stream",
     "text": [
      "INFO:tensorflow:global_step/sec: 0.0806662\n"
     ]
    },
    {
     "name": "stderr",
     "output_type": "stream",
     "text": [
      "INFO:tensorflow:global_step/sec: 0.0806662\n"
     ]
    },
    {
     "name": "stdout",
     "output_type": "stream",
     "text": [
      "INFO:tensorflow:loss = 0.312494, step = 2901 (1239.895 sec)\n"
     ]
    },
    {
     "name": "stderr",
     "output_type": "stream",
     "text": [
      "INFO:tensorflow:loss = 0.312494, step = 2901 (1239.895 sec)\n"
     ]
    },
    {
     "name": "stdout",
     "output_type": "stream",
     "text": [
      "INFO:tensorflow:Saving checkpoints for 2904 into \\\\Tyler-laptop\\tylersqlserver\\FileTableData\\TFTrainCheckpoints\\model.ckpt.\n"
     ]
    },
    {
     "name": "stderr",
     "output_type": "stream",
     "text": [
      "INFO:tensorflow:Saving checkpoints for 2904 into \\\\Tyler-laptop\\tylersqlserver\\FileTableData\\TFTrainCheckpoints\\model.ckpt.\n"
     ]
    },
    {
     "name": "stdout",
     "output_type": "stream",
     "text": [
      "INFO:tensorflow:Saving checkpoints for 2952 into \\\\Tyler-laptop\\tylersqlserver\\FileTableData\\TFTrainCheckpoints\\model.ckpt.\n"
     ]
    },
    {
     "name": "stderr",
     "output_type": "stream",
     "text": [
      "INFO:tensorflow:Saving checkpoints for 2952 into \\\\Tyler-laptop\\tylersqlserver\\FileTableData\\TFTrainCheckpoints\\model.ckpt.\n"
     ]
    },
    {
     "name": "stdout",
     "output_type": "stream",
     "text": [
      "INFO:tensorflow:Saving checkpoints for 2997 into \\\\Tyler-laptop\\tylersqlserver\\FileTableData\\TFTrainCheckpoints\\model.ckpt.\n"
     ]
    },
    {
     "name": "stderr",
     "output_type": "stream",
     "text": [
      "INFO:tensorflow:Saving checkpoints for 2997 into \\\\Tyler-laptop\\tylersqlserver\\FileTableData\\TFTrainCheckpoints\\model.ckpt.\n"
     ]
    },
    {
     "name": "stdout",
     "output_type": "stream",
     "text": [
      "INFO:tensorflow:global_step/sec: 0.0767834\n"
     ]
    },
    {
     "name": "stderr",
     "output_type": "stream",
     "text": [
      "INFO:tensorflow:global_step/sec: 0.0767834\n"
     ]
    },
    {
     "name": "stdout",
     "output_type": "stream",
     "text": [
      "INFO:tensorflow:loss = 0.310972, step = 3001 (1302.083 sec)\n"
     ]
    },
    {
     "name": "stderr",
     "output_type": "stream",
     "text": [
      "INFO:tensorflow:loss = 0.310972, step = 3001 (1302.083 sec)\n"
     ]
    },
    {
     "name": "stdout",
     "output_type": "stream",
     "text": [
      "INFO:tensorflow:Saving checkpoints for 3045 into \\\\Tyler-laptop\\tylersqlserver\\FileTableData\\TFTrainCheckpoints\\model.ckpt.\n"
     ]
    },
    {
     "name": "stderr",
     "output_type": "stream",
     "text": [
      "INFO:tensorflow:Saving checkpoints for 3045 into \\\\Tyler-laptop\\tylersqlserver\\FileTableData\\TFTrainCheckpoints\\model.ckpt.\n"
     ]
    },
    {
     "name": "stdout",
     "output_type": "stream",
     "text": [
      "INFO:tensorflow:Saving checkpoints for 3094 into \\\\Tyler-laptop\\tylersqlserver\\FileTableData\\TFTrainCheckpoints\\model.ckpt.\n"
     ]
    },
    {
     "name": "stderr",
     "output_type": "stream",
     "text": [
      "INFO:tensorflow:Saving checkpoints for 3094 into \\\\Tyler-laptop\\tylersqlserver\\FileTableData\\TFTrainCheckpoints\\model.ckpt.\n"
     ]
    },
    {
     "name": "stdout",
     "output_type": "stream",
     "text": [
      "INFO:tensorflow:global_step/sec: 0.0801719\n"
     ]
    },
    {
     "name": "stderr",
     "output_type": "stream",
     "text": [
      "INFO:tensorflow:global_step/sec: 0.0801719\n"
     ]
    },
    {
     "name": "stdout",
     "output_type": "stream",
     "text": [
      "INFO:tensorflow:loss = 0.387561, step = 3101 (1247.335 sec)\n"
     ]
    },
    {
     "name": "stderr",
     "output_type": "stream",
     "text": [
      "INFO:tensorflow:loss = 0.387561, step = 3101 (1247.335 sec)\n"
     ]
    },
    {
     "name": "stdout",
     "output_type": "stream",
     "text": [
      "INFO:tensorflow:Saving checkpoints for 3144 into \\\\Tyler-laptop\\tylersqlserver\\FileTableData\\TFTrainCheckpoints\\model.ckpt.\n"
     ]
    },
    {
     "name": "stderr",
     "output_type": "stream",
     "text": [
      "INFO:tensorflow:Saving checkpoints for 3144 into \\\\Tyler-laptop\\tylersqlserver\\FileTableData\\TFTrainCheckpoints\\model.ckpt.\n"
     ]
    },
    {
     "name": "stdout",
     "output_type": "stream",
     "text": [
      "INFO:tensorflow:Saving checkpoints for 3193 into \\\\Tyler-laptop\\tylersqlserver\\FileTableData\\TFTrainCheckpoints\\model.ckpt.\n"
     ]
    },
    {
     "name": "stderr",
     "output_type": "stream",
     "text": [
      "INFO:tensorflow:Saving checkpoints for 3193 into \\\\Tyler-laptop\\tylersqlserver\\FileTableData\\TFTrainCheckpoints\\model.ckpt.\n"
     ]
    },
    {
     "name": "stdout",
     "output_type": "stream",
     "text": [
      "INFO:tensorflow:global_step/sec: 0.0812421\n"
     ]
    },
    {
     "name": "stderr",
     "output_type": "stream",
     "text": [
      "INFO:tensorflow:global_step/sec: 0.0812421\n"
     ]
    },
    {
     "name": "stdout",
     "output_type": "stream",
     "text": [
      "INFO:tensorflow:loss = 0.276597, step = 3201 (1230.874 sec)\n"
     ]
    },
    {
     "name": "stderr",
     "output_type": "stream",
     "text": [
      "INFO:tensorflow:loss = 0.276597, step = 3201 (1230.874 sec)\n"
     ]
    },
    {
     "name": "stdout",
     "output_type": "stream",
     "text": [
      "INFO:tensorflow:Saving checkpoints for 3242 into \\\\Tyler-laptop\\tylersqlserver\\FileTableData\\TFTrainCheckpoints\\model.ckpt.\n"
     ]
    },
    {
     "name": "stderr",
     "output_type": "stream",
     "text": [
      "INFO:tensorflow:Saving checkpoints for 3242 into \\\\Tyler-laptop\\tylersqlserver\\FileTableData\\TFTrainCheckpoints\\model.ckpt.\n"
     ]
    },
    {
     "name": "stdout",
     "output_type": "stream",
     "text": [
      "INFO:tensorflow:Saving checkpoints for 3291 into \\\\Tyler-laptop\\tylersqlserver\\FileTableData\\TFTrainCheckpoints\\model.ckpt.\n"
     ]
    },
    {
     "name": "stderr",
     "output_type": "stream",
     "text": [
      "INFO:tensorflow:Saving checkpoints for 3291 into \\\\Tyler-laptop\\tylersqlserver\\FileTableData\\TFTrainCheckpoints\\model.ckpt.\n"
     ]
    },
    {
     "name": "stdout",
     "output_type": "stream",
     "text": [
      "INFO:tensorflow:global_step/sec: 0.08095\n"
     ]
    },
    {
     "name": "stderr",
     "output_type": "stream",
     "text": [
      "INFO:tensorflow:global_step/sec: 0.08095\n"
     ]
    },
    {
     "name": "stdout",
     "output_type": "stream",
     "text": [
      "INFO:tensorflow:loss = 0.137406, step = 3301 (1235.409 sec)\n"
     ]
    },
    {
     "name": "stderr",
     "output_type": "stream",
     "text": [
      "INFO:tensorflow:loss = 0.137406, step = 3301 (1235.409 sec)\n"
     ]
    },
    {
     "name": "stdout",
     "output_type": "stream",
     "text": [
      "INFO:tensorflow:Saving checkpoints for 3340 into \\\\Tyler-laptop\\tylersqlserver\\FileTableData\\TFTrainCheckpoints\\model.ckpt.\n"
     ]
    },
    {
     "name": "stderr",
     "output_type": "stream",
     "text": [
      "INFO:tensorflow:Saving checkpoints for 3340 into \\\\Tyler-laptop\\tylersqlserver\\FileTableData\\TFTrainCheckpoints\\model.ckpt.\n"
     ]
    },
    {
     "name": "stdout",
     "output_type": "stream",
     "text": [
      "INFO:tensorflow:Saving checkpoints for 3389 into \\\\Tyler-laptop\\tylersqlserver\\FileTableData\\TFTrainCheckpoints\\model.ckpt.\n"
     ]
    },
    {
     "name": "stderr",
     "output_type": "stream",
     "text": [
      "INFO:tensorflow:Saving checkpoints for 3389 into \\\\Tyler-laptop\\tylersqlserver\\FileTableData\\TFTrainCheckpoints\\model.ckpt.\n"
     ]
    },
    {
     "name": "stdout",
     "output_type": "stream",
     "text": [
      "INFO:tensorflow:global_step/sec: 0.0813933\n"
     ]
    },
    {
     "name": "stderr",
     "output_type": "stream",
     "text": [
      "INFO:tensorflow:global_step/sec: 0.0813933\n"
     ]
    },
    {
     "name": "stdout",
     "output_type": "stream",
     "text": [
      "INFO:tensorflow:loss = 0.295966, step = 3401 (1228.571 sec)\n"
     ]
    },
    {
     "name": "stderr",
     "output_type": "stream",
     "text": [
      "INFO:tensorflow:loss = 0.295966, step = 3401 (1228.571 sec)\n"
     ]
    },
    {
     "name": "stdout",
     "output_type": "stream",
     "text": [
      "INFO:tensorflow:Saving checkpoints for 3438 into \\\\Tyler-laptop\\tylersqlserver\\FileTableData\\TFTrainCheckpoints\\model.ckpt.\n"
     ]
    },
    {
     "name": "stderr",
     "output_type": "stream",
     "text": [
      "INFO:tensorflow:Saving checkpoints for 3438 into \\\\Tyler-laptop\\tylersqlserver\\FileTableData\\TFTrainCheckpoints\\model.ckpt.\n"
     ]
    },
    {
     "name": "stdout",
     "output_type": "stream",
     "text": [
      "INFO:tensorflow:Saving checkpoints for 3487 into \\\\Tyler-laptop\\tylersqlserver\\FileTableData\\TFTrainCheckpoints\\model.ckpt.\n"
     ]
    },
    {
     "name": "stderr",
     "output_type": "stream",
     "text": [
      "INFO:tensorflow:Saving checkpoints for 3487 into \\\\Tyler-laptop\\tylersqlserver\\FileTableData\\TFTrainCheckpoints\\model.ckpt.\n"
     ]
    },
    {
     "name": "stdout",
     "output_type": "stream",
     "text": [
      "INFO:tensorflow:global_step/sec: 0.0811357\n"
     ]
    },
    {
     "name": "stderr",
     "output_type": "stream",
     "text": [
      "INFO:tensorflow:global_step/sec: 0.0811357\n"
     ]
    },
    {
     "name": "stdout",
     "output_type": "stream",
     "text": [
      "INFO:tensorflow:loss = 0.441916, step = 3501 (1232.534 sec)\n"
     ]
    },
    {
     "name": "stderr",
     "output_type": "stream",
     "text": [
      "INFO:tensorflow:loss = 0.441916, step = 3501 (1232.534 sec)\n"
     ]
    },
    {
     "name": "stdout",
     "output_type": "stream",
     "text": [
      "INFO:tensorflow:Saving checkpoints for 3536 into \\\\Tyler-laptop\\tylersqlserver\\FileTableData\\TFTrainCheckpoints\\model.ckpt.\n"
     ]
    },
    {
     "name": "stderr",
     "output_type": "stream",
     "text": [
      "INFO:tensorflow:Saving checkpoints for 3536 into \\\\Tyler-laptop\\tylersqlserver\\FileTableData\\TFTrainCheckpoints\\model.ckpt.\n"
     ]
    },
    {
     "name": "stdout",
     "output_type": "stream",
     "text": [
      "INFO:tensorflow:Saving checkpoints for 3586 into \\\\Tyler-laptop\\tylersqlserver\\FileTableData\\TFTrainCheckpoints\\model.ckpt.\n"
     ]
    },
    {
     "name": "stderr",
     "output_type": "stream",
     "text": [
      "INFO:tensorflow:Saving checkpoints for 3586 into \\\\Tyler-laptop\\tylersqlserver\\FileTableData\\TFTrainCheckpoints\\model.ckpt.\n"
     ]
    },
    {
     "name": "stdout",
     "output_type": "stream",
     "text": [
      "INFO:tensorflow:global_step/sec: 0.0816226\n"
     ]
    },
    {
     "name": "stderr",
     "output_type": "stream",
     "text": [
      "INFO:tensorflow:global_step/sec: 0.0816226\n"
     ]
    },
    {
     "name": "stdout",
     "output_type": "stream",
     "text": [
      "INFO:tensorflow:loss = 0.367174, step = 3601 (1225.135 sec)\n"
     ]
    },
    {
     "name": "stderr",
     "output_type": "stream",
     "text": [
      "INFO:tensorflow:loss = 0.367174, step = 3601 (1225.135 sec)\n"
     ]
    },
    {
     "name": "stdout",
     "output_type": "stream",
     "text": [
      "INFO:tensorflow:Saving checkpoints for 3635 into \\\\Tyler-laptop\\tylersqlserver\\FileTableData\\TFTrainCheckpoints\\model.ckpt.\n"
     ]
    },
    {
     "name": "stderr",
     "output_type": "stream",
     "text": [
      "INFO:tensorflow:Saving checkpoints for 3635 into \\\\Tyler-laptop\\tylersqlserver\\FileTableData\\TFTrainCheckpoints\\model.ckpt.\n"
     ]
    },
    {
     "name": "stdout",
     "output_type": "stream",
     "text": [
      "INFO:tensorflow:Saving checkpoints for 3685 into \\\\Tyler-laptop\\tylersqlserver\\FileTableData\\TFTrainCheckpoints\\model.ckpt.\n"
     ]
    },
    {
     "name": "stderr",
     "output_type": "stream",
     "text": [
      "INFO:tensorflow:Saving checkpoints for 3685 into \\\\Tyler-laptop\\tylersqlserver\\FileTableData\\TFTrainCheckpoints\\model.ckpt.\n"
     ]
    },
    {
     "name": "stdout",
     "output_type": "stream",
     "text": [
      "INFO:tensorflow:global_step/sec: 0.0816024\n"
     ]
    },
    {
     "name": "stderr",
     "output_type": "stream",
     "text": [
      "INFO:tensorflow:global_step/sec: 0.0816024\n"
     ]
    },
    {
     "name": "stdout",
     "output_type": "stream",
     "text": [
      "INFO:tensorflow:loss = 0.266721, step = 3701 (1225.469 sec)\n"
     ]
    },
    {
     "name": "stderr",
     "output_type": "stream",
     "text": [
      "INFO:tensorflow:loss = 0.266721, step = 3701 (1225.469 sec)\n"
     ]
    },
    {
     "name": "stdout",
     "output_type": "stream",
     "text": [
      "INFO:tensorflow:Saving checkpoints for 3734 into \\\\Tyler-laptop\\tylersqlserver\\FileTableData\\TFTrainCheckpoints\\model.ckpt.\n"
     ]
    },
    {
     "name": "stderr",
     "output_type": "stream",
     "text": [
      "INFO:tensorflow:Saving checkpoints for 3734 into \\\\Tyler-laptop\\tylersqlserver\\FileTableData\\TFTrainCheckpoints\\model.ckpt.\n"
     ]
    },
    {
     "name": "stdout",
     "output_type": "stream",
     "text": [
      "INFO:tensorflow:Saving checkpoints for 3783 into \\\\Tyler-laptop\\tylersqlserver\\FileTableData\\TFTrainCheckpoints\\model.ckpt.\n"
     ]
    },
    {
     "name": "stderr",
     "output_type": "stream",
     "text": [
      "INFO:tensorflow:Saving checkpoints for 3783 into \\\\Tyler-laptop\\tylersqlserver\\FileTableData\\TFTrainCheckpoints\\model.ckpt.\n"
     ]
    },
    {
     "name": "stdout",
     "output_type": "stream",
     "text": [
      "INFO:tensorflow:global_step/sec: 0.0809156\n"
     ]
    },
    {
     "name": "stderr",
     "output_type": "stream",
     "text": [
      "INFO:tensorflow:global_step/sec: 0.0809156\n"
     ]
    },
    {
     "name": "stdout",
     "output_type": "stream",
     "text": [
      "INFO:tensorflow:loss = 0.320515, step = 3801 (1235.840 sec)\n"
     ]
    },
    {
     "name": "stderr",
     "output_type": "stream",
     "text": [
      "INFO:tensorflow:loss = 0.320515, step = 3801 (1235.840 sec)\n"
     ]
    },
    {
     "name": "stdout",
     "output_type": "stream",
     "text": [
      "INFO:tensorflow:Saving checkpoints for 3832 into \\\\Tyler-laptop\\tylersqlserver\\FileTableData\\TFTrainCheckpoints\\model.ckpt.\n"
     ]
    },
    {
     "name": "stderr",
     "output_type": "stream",
     "text": [
      "INFO:tensorflow:Saving checkpoints for 3832 into \\\\Tyler-laptop\\tylersqlserver\\FileTableData\\TFTrainCheckpoints\\model.ckpt.\n"
     ]
    },
    {
     "name": "stdout",
     "output_type": "stream",
     "text": [
      "INFO:tensorflow:Saving checkpoints for 3881 into \\\\Tyler-laptop\\tylersqlserver\\FileTableData\\TFTrainCheckpoints\\model.ckpt.\n"
     ]
    },
    {
     "name": "stderr",
     "output_type": "stream",
     "text": [
      "INFO:tensorflow:Saving checkpoints for 3881 into \\\\Tyler-laptop\\tylersqlserver\\FileTableData\\TFTrainCheckpoints\\model.ckpt.\n"
     ]
    },
    {
     "name": "stdout",
     "output_type": "stream",
     "text": [
      "INFO:tensorflow:global_step/sec: 0.0808857\n"
     ]
    },
    {
     "name": "stderr",
     "output_type": "stream",
     "text": [
      "INFO:tensorflow:global_step/sec: 0.0808857\n"
     ]
    },
    {
     "name": "stdout",
     "output_type": "stream",
     "text": [
      "INFO:tensorflow:loss = 0.264753, step = 3901 (1236.484 sec)\n"
     ]
    },
    {
     "name": "stderr",
     "output_type": "stream",
     "text": [
      "INFO:tensorflow:loss = 0.264753, step = 3901 (1236.484 sec)\n"
     ]
    },
    {
     "name": "stdout",
     "output_type": "stream",
     "text": [
      "INFO:tensorflow:Saving checkpoints for 3930 into \\\\Tyler-laptop\\tylersqlserver\\FileTableData\\TFTrainCheckpoints\\model.ckpt.\n"
     ]
    },
    {
     "name": "stderr",
     "output_type": "stream",
     "text": [
      "INFO:tensorflow:Saving checkpoints for 3930 into \\\\Tyler-laptop\\tylersqlserver\\FileTableData\\TFTrainCheckpoints\\model.ckpt.\n"
     ]
    },
    {
     "name": "stdout",
     "output_type": "stream",
     "text": [
      "INFO:tensorflow:Saving checkpoints for 3980 into \\\\Tyler-laptop\\tylersqlserver\\FileTableData\\TFTrainCheckpoints\\model.ckpt.\n"
     ]
    },
    {
     "name": "stderr",
     "output_type": "stream",
     "text": [
      "INFO:tensorflow:Saving checkpoints for 3980 into \\\\Tyler-laptop\\tylersqlserver\\FileTableData\\TFTrainCheckpoints\\model.ckpt.\n"
     ]
    },
    {
     "name": "stdout",
     "output_type": "stream",
     "text": [
      "INFO:tensorflow:global_step/sec: 0.0818315\n"
     ]
    },
    {
     "name": "stderr",
     "output_type": "stream",
     "text": [
      "INFO:tensorflow:global_step/sec: 0.0818315\n"
     ]
    },
    {
     "name": "stdout",
     "output_type": "stream",
     "text": [
      "INFO:tensorflow:loss = 0.172328, step = 4001 (1221.869 sec)\n"
     ]
    },
    {
     "name": "stderr",
     "output_type": "stream",
     "text": [
      "INFO:tensorflow:loss = 0.172328, step = 4001 (1221.869 sec)\n"
     ]
    },
    {
     "name": "stdout",
     "output_type": "stream",
     "text": [
      "INFO:tensorflow:Saving checkpoints for 4030 into \\\\Tyler-laptop\\tylersqlserver\\FileTableData\\TFTrainCheckpoints\\model.ckpt.\n"
     ]
    },
    {
     "name": "stderr",
     "output_type": "stream",
     "text": [
      "INFO:tensorflow:Saving checkpoints for 4030 into \\\\Tyler-laptop\\tylersqlserver\\FileTableData\\TFTrainCheckpoints\\model.ckpt.\n"
     ]
    },
    {
     "name": "stdout",
     "output_type": "stream",
     "text": [
      "INFO:tensorflow:Saving checkpoints for 4080 into \\\\Tyler-laptop\\tylersqlserver\\FileTableData\\TFTrainCheckpoints\\model.ckpt.\n"
     ]
    },
    {
     "name": "stderr",
     "output_type": "stream",
     "text": [
      "INFO:tensorflow:Saving checkpoints for 4080 into \\\\Tyler-laptop\\tylersqlserver\\FileTableData\\TFTrainCheckpoints\\model.ckpt.\n"
     ]
    },
    {
     "name": "stdout",
     "output_type": "stream",
     "text": [
      "INFO:tensorflow:global_step/sec: 0.0820784\n"
     ]
    },
    {
     "name": "stderr",
     "output_type": "stream",
     "text": [
      "INFO:tensorflow:global_step/sec: 0.0820784\n"
     ]
    },
    {
     "name": "stdout",
     "output_type": "stream",
     "text": [
      "INFO:tensorflow:loss = 0.432907, step = 4101 (1218.376 sec)\n"
     ]
    },
    {
     "name": "stderr",
     "output_type": "stream",
     "text": [
      "INFO:tensorflow:loss = 0.432907, step = 4101 (1218.376 sec)\n"
     ]
    },
    {
     "name": "stdout",
     "output_type": "stream",
     "text": [
      "INFO:tensorflow:Saving checkpoints for 4130 into \\\\Tyler-laptop\\tylersqlserver\\FileTableData\\TFTrainCheckpoints\\model.ckpt.\n"
     ]
    },
    {
     "name": "stderr",
     "output_type": "stream",
     "text": [
      "INFO:tensorflow:Saving checkpoints for 4130 into \\\\Tyler-laptop\\tylersqlserver\\FileTableData\\TFTrainCheckpoints\\model.ckpt.\n"
     ]
    },
    {
     "name": "stdout",
     "output_type": "stream",
     "text": [
      "INFO:tensorflow:Saving checkpoints for 4179 into \\\\Tyler-laptop\\tylersqlserver\\FileTableData\\TFTrainCheckpoints\\model.ckpt.\n"
     ]
    },
    {
     "name": "stderr",
     "output_type": "stream",
     "text": [
      "INFO:tensorflow:Saving checkpoints for 4179 into \\\\Tyler-laptop\\tylersqlserver\\FileTableData\\TFTrainCheckpoints\\model.ckpt.\n"
     ]
    },
    {
     "name": "stdout",
     "output_type": "stream",
     "text": [
      "INFO:tensorflow:global_step/sec: 0.0815276\n"
     ]
    },
    {
     "name": "stderr",
     "output_type": "stream",
     "text": [
      "INFO:tensorflow:global_step/sec: 0.0815276\n"
     ]
    },
    {
     "name": "stdout",
     "output_type": "stream",
     "text": [
      "INFO:tensorflow:loss = 0.157113, step = 4201 (1226.532 sec)\n"
     ]
    },
    {
     "name": "stderr",
     "output_type": "stream",
     "text": [
      "INFO:tensorflow:loss = 0.157113, step = 4201 (1226.532 sec)\n"
     ]
    },
    {
     "name": "stdout",
     "output_type": "stream",
     "text": [
      "INFO:tensorflow:Saving checkpoints for 4228 into \\\\Tyler-laptop\\tylersqlserver\\FileTableData\\TFTrainCheckpoints\\model.ckpt.\n"
     ]
    },
    {
     "name": "stderr",
     "output_type": "stream",
     "text": [
      "INFO:tensorflow:Saving checkpoints for 4228 into \\\\Tyler-laptop\\tylersqlserver\\FileTableData\\TFTrainCheckpoints\\model.ckpt.\n"
     ]
    },
    {
     "name": "stdout",
     "output_type": "stream",
     "text": [
      "INFO:tensorflow:Saving checkpoints for 4277 into \\\\Tyler-laptop\\tylersqlserver\\FileTableData\\TFTrainCheckpoints\\model.ckpt.\n"
     ]
    },
    {
     "name": "stderr",
     "output_type": "stream",
     "text": [
      "INFO:tensorflow:Saving checkpoints for 4277 into \\\\Tyler-laptop\\tylersqlserver\\FileTableData\\TFTrainCheckpoints\\model.ckpt.\n"
     ]
    },
    {
     "name": "stdout",
     "output_type": "stream",
     "text": [
      "INFO:tensorflow:global_step/sec: 0.0810306\n"
     ]
    },
    {
     "name": "stderr",
     "output_type": "stream",
     "text": [
      "INFO:tensorflow:global_step/sec: 0.0810306\n"
     ]
    },
    {
     "name": "stdout",
     "output_type": "stream",
     "text": [
      "INFO:tensorflow:loss = 0.233714, step = 4301 (1234.305 sec)\n"
     ]
    },
    {
     "name": "stderr",
     "output_type": "stream",
     "text": [
      "INFO:tensorflow:loss = 0.233714, step = 4301 (1234.305 sec)\n"
     ]
    },
    {
     "name": "stdout",
     "output_type": "stream",
     "text": [
      "INFO:tensorflow:Saving checkpoints for 4326 into \\\\Tyler-laptop\\tylersqlserver\\FileTableData\\TFTrainCheckpoints\\model.ckpt.\n"
     ]
    },
    {
     "name": "stderr",
     "output_type": "stream",
     "text": [
      "INFO:tensorflow:Saving checkpoints for 4326 into \\\\Tyler-laptop\\tylersqlserver\\FileTableData\\TFTrainCheckpoints\\model.ckpt.\n"
     ]
    },
    {
     "name": "stdout",
     "output_type": "stream",
     "text": [
      "INFO:tensorflow:Saving checkpoints for 4375 into \\\\Tyler-laptop\\tylersqlserver\\FileTableData\\TFTrainCheckpoints\\model.ckpt.\n"
     ]
    },
    {
     "name": "stderr",
     "output_type": "stream",
     "text": [
      "INFO:tensorflow:Saving checkpoints for 4375 into \\\\Tyler-laptop\\tylersqlserver\\FileTableData\\TFTrainCheckpoints\\model.ckpt.\n"
     ]
    },
    {
     "name": "stdout",
     "output_type": "stream",
     "text": [
      "INFO:tensorflow:global_step/sec: 0.0812184\n"
     ]
    },
    {
     "name": "stderr",
     "output_type": "stream",
     "text": [
      "INFO:tensorflow:global_step/sec: 0.0812184\n"
     ]
    },
    {
     "name": "stdout",
     "output_type": "stream",
     "text": [
      "INFO:tensorflow:loss = 0.221044, step = 4401 (1231.077 sec)\n"
     ]
    },
    {
     "name": "stderr",
     "output_type": "stream",
     "text": [
      "INFO:tensorflow:loss = 0.221044, step = 4401 (1231.077 sec)\n"
     ]
    },
    {
     "name": "stdout",
     "output_type": "stream",
     "text": [
      "INFO:tensorflow:Saving checkpoints for 4424 into \\\\Tyler-laptop\\tylersqlserver\\FileTableData\\TFTrainCheckpoints\\model.ckpt.\n"
     ]
    },
    {
     "name": "stderr",
     "output_type": "stream",
     "text": [
      "INFO:tensorflow:Saving checkpoints for 4424 into \\\\Tyler-laptop\\tylersqlserver\\FileTableData\\TFTrainCheckpoints\\model.ckpt.\n"
     ]
    },
    {
     "name": "stdout",
     "output_type": "stream",
     "text": [
      "INFO:tensorflow:Saving checkpoints for 4474 into \\\\Tyler-laptop\\tylersqlserver\\FileTableData\\TFTrainCheckpoints\\model.ckpt.\n"
     ]
    },
    {
     "name": "stderr",
     "output_type": "stream",
     "text": [
      "INFO:tensorflow:Saving checkpoints for 4474 into \\\\Tyler-laptop\\tylersqlserver\\FileTableData\\TFTrainCheckpoints\\model.ckpt.\n"
     ]
    },
    {
     "name": "stdout",
     "output_type": "stream",
     "text": [
      "INFO:tensorflow:global_step/sec: 0.081977\n"
     ]
    },
    {
     "name": "stderr",
     "output_type": "stream",
     "text": [
      "INFO:tensorflow:global_step/sec: 0.081977\n"
     ]
    },
    {
     "name": "stdout",
     "output_type": "stream",
     "text": [
      "INFO:tensorflow:loss = 0.180319, step = 4501 (1219.813 sec)\n"
     ]
    },
    {
     "name": "stderr",
     "output_type": "stream",
     "text": [
      "INFO:tensorflow:loss = 0.180319, step = 4501 (1219.813 sec)\n"
     ]
    },
    {
     "name": "stdout",
     "output_type": "stream",
     "text": [
      "INFO:tensorflow:Saving checkpoints for 4524 into \\\\Tyler-laptop\\tylersqlserver\\FileTableData\\TFTrainCheckpoints\\model.ckpt.\n"
     ]
    },
    {
     "name": "stderr",
     "output_type": "stream",
     "text": [
      "INFO:tensorflow:Saving checkpoints for 4524 into \\\\Tyler-laptop\\tylersqlserver\\FileTableData\\TFTrainCheckpoints\\model.ckpt.\n"
     ]
    },
    {
     "name": "stdout",
     "output_type": "stream",
     "text": [
      "INFO:tensorflow:Saving checkpoints for 4574 into \\\\Tyler-laptop\\tylersqlserver\\FileTableData\\TFTrainCheckpoints\\model.ckpt.\n"
     ]
    },
    {
     "name": "stderr",
     "output_type": "stream",
     "text": [
      "INFO:tensorflow:Saving checkpoints for 4574 into \\\\Tyler-laptop\\tylersqlserver\\FileTableData\\TFTrainCheckpoints\\model.ckpt.\n"
     ]
    },
    {
     "name": "stdout",
     "output_type": "stream",
     "text": [
      "INFO:tensorflow:global_step/sec: 0.0817439\n"
     ]
    },
    {
     "name": "stderr",
     "output_type": "stream",
     "text": [
      "INFO:tensorflow:global_step/sec: 0.0817439\n"
     ]
    },
    {
     "name": "stdout",
     "output_type": "stream",
     "text": [
      "INFO:tensorflow:loss = 0.114448, step = 4601 (1223.327 sec)\n"
     ]
    },
    {
     "name": "stderr",
     "output_type": "stream",
     "text": [
      "INFO:tensorflow:loss = 0.114448, step = 4601 (1223.327 sec)\n"
     ]
    },
    {
     "name": "stdout",
     "output_type": "stream",
     "text": [
      "INFO:tensorflow:Saving checkpoints for 4623 into \\\\Tyler-laptop\\tylersqlserver\\FileTableData\\TFTrainCheckpoints\\model.ckpt.\n"
     ]
    },
    {
     "name": "stderr",
     "output_type": "stream",
     "text": [
      "INFO:tensorflow:Saving checkpoints for 4623 into \\\\Tyler-laptop\\tylersqlserver\\FileTableData\\TFTrainCheckpoints\\model.ckpt.\n"
     ]
    },
    {
     "name": "stdout",
     "output_type": "stream",
     "text": [
      "INFO:tensorflow:Saving checkpoints for 4673 into \\\\Tyler-laptop\\tylersqlserver\\FileTableData\\TFTrainCheckpoints\\model.ckpt.\n"
     ]
    },
    {
     "name": "stderr",
     "output_type": "stream",
     "text": [
      "INFO:tensorflow:Saving checkpoints for 4673 into \\\\Tyler-laptop\\tylersqlserver\\FileTableData\\TFTrainCheckpoints\\model.ckpt.\n"
     ]
    },
    {
     "name": "stdout",
     "output_type": "stream",
     "text": [
      "INFO:tensorflow:global_step/sec: 0.0817165\n"
     ]
    },
    {
     "name": "stderr",
     "output_type": "stream",
     "text": [
      "INFO:tensorflow:global_step/sec: 0.0817165\n"
     ]
    },
    {
     "name": "stdout",
     "output_type": "stream",
     "text": [
      "INFO:tensorflow:loss = 0.156122, step = 4701 (1223.930 sec)\n"
     ]
    },
    {
     "name": "stderr",
     "output_type": "stream",
     "text": [
      "INFO:tensorflow:loss = 0.156122, step = 4701 (1223.930 sec)\n"
     ]
    },
    {
     "name": "stdout",
     "output_type": "stream",
     "text": [
      "INFO:tensorflow:Saving checkpoints for 4722 into \\\\Tyler-laptop\\tylersqlserver\\FileTableData\\TFTrainCheckpoints\\model.ckpt.\n"
     ]
    },
    {
     "name": "stderr",
     "output_type": "stream",
     "text": [
      "INFO:tensorflow:Saving checkpoints for 4722 into \\\\Tyler-laptop\\tylersqlserver\\FileTableData\\TFTrainCheckpoints\\model.ckpt.\n"
     ]
    },
    {
     "name": "stdout",
     "output_type": "stream",
     "text": [
      "INFO:tensorflow:Saving checkpoints for 4772 into \\\\Tyler-laptop\\tylersqlserver\\FileTableData\\TFTrainCheckpoints\\model.ckpt.\n"
     ]
    },
    {
     "name": "stderr",
     "output_type": "stream",
     "text": [
      "INFO:tensorflow:Saving checkpoints for 4772 into \\\\Tyler-laptop\\tylersqlserver\\FileTableData\\TFTrainCheckpoints\\model.ckpt.\n"
     ]
    },
    {
     "name": "stdout",
     "output_type": "stream",
     "text": [
      "INFO:tensorflow:global_step/sec: 0.0813776\n"
     ]
    },
    {
     "name": "stderr",
     "output_type": "stream",
     "text": [
      "INFO:tensorflow:global_step/sec: 0.0813776\n"
     ]
    },
    {
     "name": "stdout",
     "output_type": "stream",
     "text": [
      "INFO:tensorflow:loss = 0.241906, step = 4801 (1228.684 sec)\n"
     ]
    },
    {
     "name": "stderr",
     "output_type": "stream",
     "text": [
      "INFO:tensorflow:loss = 0.241906, step = 4801 (1228.684 sec)\n"
     ]
    },
    {
     "name": "stdout",
     "output_type": "stream",
     "text": [
      "INFO:tensorflow:Saving checkpoints for 4821 into \\\\Tyler-laptop\\tylersqlserver\\FileTableData\\TFTrainCheckpoints\\model.ckpt.\n"
     ]
    },
    {
     "name": "stderr",
     "output_type": "stream",
     "text": [
      "INFO:tensorflow:Saving checkpoints for 4821 into \\\\Tyler-laptop\\tylersqlserver\\FileTableData\\TFTrainCheckpoints\\model.ckpt.\n"
     ]
    },
    {
     "name": "stdout",
     "output_type": "stream",
     "text": [
      "INFO:tensorflow:Saving checkpoints for 4871 into \\\\Tyler-laptop\\tylersqlserver\\FileTableData\\TFTrainCheckpoints\\model.ckpt.\n"
     ]
    },
    {
     "name": "stderr",
     "output_type": "stream",
     "text": [
      "INFO:tensorflow:Saving checkpoints for 4871 into \\\\Tyler-laptop\\tylersqlserver\\FileTableData\\TFTrainCheckpoints\\model.ckpt.\n"
     ]
    },
    {
     "name": "stdout",
     "output_type": "stream",
     "text": [
      "INFO:tensorflow:global_step/sec: 0.081774\n"
     ]
    },
    {
     "name": "stderr",
     "output_type": "stream",
     "text": [
      "INFO:tensorflow:global_step/sec: 0.081774\n"
     ]
    },
    {
     "name": "stdout",
     "output_type": "stream",
     "text": [
      "INFO:tensorflow:loss = 0.169822, step = 4901 (1222.883 sec)\n"
     ]
    },
    {
     "name": "stderr",
     "output_type": "stream",
     "text": [
      "INFO:tensorflow:loss = 0.169822, step = 4901 (1222.883 sec)\n"
     ]
    },
    {
     "name": "stdout",
     "output_type": "stream",
     "text": [
      "INFO:tensorflow:Saving checkpoints for 4921 into \\\\Tyler-laptop\\tylersqlserver\\FileTableData\\TFTrainCheckpoints\\model.ckpt.\n"
     ]
    },
    {
     "name": "stderr",
     "output_type": "stream",
     "text": [
      "INFO:tensorflow:Saving checkpoints for 4921 into \\\\Tyler-laptop\\tylersqlserver\\FileTableData\\TFTrainCheckpoints\\model.ckpt.\n"
     ]
    },
    {
     "name": "stdout",
     "output_type": "stream",
     "text": [
      "INFO:tensorflow:Saving checkpoints for 4970 into \\\\Tyler-laptop\\tylersqlserver\\FileTableData\\TFTrainCheckpoints\\model.ckpt.\n"
     ]
    },
    {
     "name": "stderr",
     "output_type": "stream",
     "text": [
      "INFO:tensorflow:Saving checkpoints for 4970 into \\\\Tyler-laptop\\tylersqlserver\\FileTableData\\TFTrainCheckpoints\\model.ckpt.\n"
     ]
    },
    {
     "name": "stdout",
     "output_type": "stream",
     "text": [
      "INFO:tensorflow:Saving checkpoints for 5000 into \\\\Tyler-laptop\\tylersqlserver\\FileTableData\\TFTrainCheckpoints\\model.ckpt.\n"
     ]
    },
    {
     "name": "stderr",
     "output_type": "stream",
     "text": [
      "INFO:tensorflow:Saving checkpoints for 5000 into \\\\Tyler-laptop\\tylersqlserver\\FileTableData\\TFTrainCheckpoints\\model.ckpt.\n"
     ]
    },
    {
     "name": "stdout",
     "output_type": "stream",
     "text": [
      "INFO:tensorflow:Loss for final step: 0.0804189.\n"
     ]
    },
    {
     "name": "stderr",
     "output_type": "stream",
     "text": [
      "INFO:tensorflow:Loss for final step: 0.0804189.\n"
     ]
    },
    {
     "data": {
      "text/plain": [
       "SKCompat()"
      ]
     },
     "execution_count": 4,
     "metadata": {},
     "output_type": "execute_result"
    }
   ],
   "source": [
    "# Train the model\n",
    "classifier.fit(\n",
    "    x=train_data,\n",
    "    y=train_labels,\n",
    "    batch_size=100,\n",
    "    steps=5000\n",
    ")"
   ]
  },
  {
   "cell_type": "markdown",
   "metadata": {},
   "source": [
    "## Load Evaluation Data"
   ]
  },
  {
   "cell_type": "code",
   "execution_count": 11,
   "metadata": {},
   "outputs": [
    {
     "name": "stdout",
     "output_type": "stream",
     "text": [
      "Freeing up memory...\n",
      "Load eval data\n",
      "Rows Read: 5880, Total Rows Processed: 5880, Total Chunk Time: 8.481 seconds \n",
      "\\\\Tyler-laptop\\tylersqlserver\\FileTableData\\ValData\\Shrub\\ortho_1-1_hn_s_ca073_2016_1_1005.png\n",
      "Number of pictures:  5880\n",
      "(5880, 224, 224, 3)\n",
      "(5880, 224, 224, 3)\n",
      "(5880,)\n"
     ]
    }
   ],
   "source": [
    "if 'train_data' in locals():\n",
    "    print(\"Freeing up memory...\")\n",
    "    del train_data\n",
    "    \n",
    "if 'eval_data' in locals():\n",
    "    print(\"Freeing up memory...\")\n",
    "    del eval_data\n",
    "    \n",
    "if 'test_data' in locals():\n",
    "    print(\"Freeing up memory...\")\n",
    "    del test_data\n",
    "\n",
    "print(\"Load eval data\")\n",
    "eval_info = luc.gather_image_paths(image_dir, label_to_number_dict, connection_string, mode=\"val\")\n",
    "eval_data, eval_labels = luc.load_data(eval_info)\n",
    "\n",
    "print(eval_data.shape)\n",
    "print(eval_labels.shape)"
   ]
  },
  {
   "cell_type": "markdown",
   "metadata": {},
   "source": [
    "## Score on Validation Set"
   ]
  },
  {
   "cell_type": "code",
   "execution_count": 13,
   "metadata": {},
   "outputs": [
    {
     "name": "stdout",
     "output_type": "stream",
     "text": [
      "Tensor(\"Placeholder:0\", shape=(?,), dtype=int64)\n",
      "INFO:tensorflow:Restoring parameters from \\\\Tyler-laptop\\tylersqlserver\\FileTableData\\TFTrainCheckpoints\\model.ckpt-5000\n"
     ]
    },
    {
     "name": "stderr",
     "output_type": "stream",
     "text": [
      "INFO:tensorflow:Restoring parameters from \\\\Tyler-laptop\\tylersqlserver\\FileTableData\\TFTrainCheckpoints\\model.ckpt-5000\n"
     ]
    },
    {
     "name": "stdout",
     "output_type": "stream",
     "text": [
      "{'classes': array([2, 5, 1, ..., 4, 4, 4], dtype=int64), 'probabilities': array([[  1.89610655e-04,   2.08006024e-01,   6.32990122e-01, ...,\n",
      "          2.67223026e-08,   9.18251608e-09,   4.12290007e-08],\n",
      "       [  1.30333081e-02,   3.08143288e-01,   6.57904595e-02, ...,\n",
      "          5.46639512e-06,   4.76382502e-06,   2.45304886e-06],\n",
      "       [  8.42314330e-05,   8.80920649e-01,   2.64698435e-02, ...,\n",
      "          5.32022981e-10,   1.22591173e-12,   1.12995773e-08],\n",
      "       ..., \n",
      "       [  2.33152707e-04,   1.83144566e-02,   4.97434121e-06, ...,\n",
      "          3.61629650e-11,   3.11572469e-11,   1.02062758e-09],\n",
      "       [  2.86781986e-04,   3.73704247e-02,   7.63005755e-06, ...,\n",
      "          1.51755886e-10,   2.68598338e-10,   1.34045886e-08],\n",
      "       [  1.22883276e-03,   7.85610348e-04,   1.02381819e-05, ...,\n",
      "          3.45909204e-11,   1.25453911e-10,   5.14720655e-10]], dtype=float32)}\n"
     ]
    }
   ],
   "source": [
    "eval_predictions = classifier.predict(\n",
    "    x=eval_data,\n",
    "    batch_size=128\n",
    ")"
   ]
  },
  {
   "cell_type": "markdown",
   "metadata": {},
   "source": [
    "## Analyze Validation Results"
   ]
  },
  {
   "cell_type": "code",
   "execution_count": 16,
   "metadata": {},
   "outputs": [
    {
     "name": "stdout",
     "output_type": "stream",
     "text": [
      "Confusion matrix, without normalization\n"
     ]
    },
    {
     "data": {
      "image/png": "[encoded data removed]",
      "text/plain": [
       "<matplotlib.figure.Figure at 0x24652001780>"
      ]
     },
     "metadata": {},
     "output_type": "display_data"
    }
   ],
   "source": [
    "y_pred = eval_predictions['classes']\n",
    "y_true = eval_labels\n",
    "cm = confusion_matrix(y_true, y_pred)\n",
    "luc.plot_confusion_matrix(cm, [\"Barren\", \"Forest\", \"Shrub\", \"Cultivated\", \"Herbaceous\", \"Developed\"])"
   ]
  },
  {
   "cell_type": "code",
   "execution_count": 17,
   "metadata": {},
   "outputs": [
    {
     "name": "stdout",
     "output_type": "stream",
     "text": [
      "Accuracy (all classes):  0.692517006803\n"
     ]
    }
   ],
   "source": [
    "# Accuracy (all classes)\n",
    "accuracy = accuracy_score(y_true, y_pred)\n",
    "print(\"Accuracy (all classes): \", accuracy)"
   ]
  },
  {
   "cell_type": "code",
   "execution_count": 18,
   "metadata": {},
   "outputs": [
    {
     "name": "stdout",
     "output_type": "stream",
     "text": [
      "Accuracy (Undeveloped, Cultivated, Developed):  0.843537414966\n"
     ]
    }
   ],
   "source": [
    "# Accuracy (Undeveloped, Cultivated, Developed)\n",
    "y_true = luc.merge_classes(y_true)\n",
    "y_pred = luc.merge_classes(y_pred)\n",
    "\n",
    "accuracy = accuracy_score(y_true, y_pred)\n",
    "print(\"Accuracy (Undeveloped, Cultivated, Developed): \", accuracy)"
   ]
  },
  {
   "cell_type": "markdown",
   "metadata": {},
   "source": [
    "## Load Test Data"
   ]
  },
  {
   "cell_type": "code",
   "execution_count": 20,
   "metadata": {},
   "outputs": [
    {
     "name": "stdout",
     "output_type": "stream",
     "text": [
      "Load testing data\n",
      "Rows Read: 5880, Total Rows Processed: 5880, Total Chunk Time: 25.616 seconds \n",
      "\\\\Tyler-laptop\\tylersqlserver\\FileTableData\\TestData\\Shrub\\ortho_1-1_hn_s_ca073_2016_1_100283.png\n",
      "Number of pictures:  5880\n",
      "(5880, 224, 224, 3)\n",
      "(5880, 224, 224, 3)\n",
      "(5880,)\n"
     ]
    }
   ],
   "source": [
    "if 'train_data' in locals():\n",
    "    print(\"Freeing up memory...\")\n",
    "    del train_data\n",
    "    \n",
    "if 'eval_data' in locals():\n",
    "    print(\"Freeing up memory...\")\n",
    "    del eval_data\n",
    "    \n",
    "if 'test_data' in locals():\n",
    "    print(\"Freeing up memory...\")\n",
    "    del test_data\n",
    "    \n",
    "print(\"Load testing data\")\n",
    "test_info = luc.gather_image_paths(image_dir, label_to_number_dict, connection_string, mode=\"test\")\n",
    "test_data, test_labels = luc.load_data(test_info)\n",
    "\n",
    "print(test_data.shape)\n",
    "print(test_labels.shape)"
   ]
  },
  {
   "cell_type": "markdown",
   "metadata": {},
   "source": [
    "## Score on Test Set\n",
    "Only run this one time, once the model is tuned to your liking."
   ]
  },
  {
   "cell_type": "code",
   "execution_count": 21,
   "metadata": {},
   "outputs": [
    {
     "name": "stdout",
     "output_type": "stream",
     "text": [
      "Tensor(\"Placeholder:0\", shape=(?,), dtype=int64)\n",
      "INFO:tensorflow:Restoring parameters from \\\\Tyler-laptop\\tylersqlserver\\FileTableData\\TFTrainCheckpoints\\model.ckpt-5000\n"
     ]
    },
    {
     "name": "stderr",
     "output_type": "stream",
     "text": [
      "INFO:tensorflow:Restoring parameters from \\\\Tyler-laptop\\tylersqlserver\\FileTableData\\TFTrainCheckpoints\\model.ckpt-5000\n"
     ]
    }
   ],
   "source": [
    "# Evaluate the model and print results\n",
    "test_predictions = classifier.predict(\n",
    "    x=test_data,\n",
    "    batch_size=128\n",
    ")"
   ]
  },
  {
   "cell_type": "markdown",
   "metadata": {
    "collapsed": true
   },
   "source": [
    "## Analyze Test Results"
   ]
  },
  {
   "cell_type": "code",
   "execution_count": 22,
   "metadata": {},
   "outputs": [
    {
     "name": "stdout",
     "output_type": "stream",
     "text": [
      "Confusion matrix, without normalization\n"
     ]
    },
    {
     "data": {
      "image/png": "[encoded data removed]",
      "text/plain": [
       "<matplotlib.figure.Figure at 0x246529ae9b0>"
      ]
     },
     "metadata": {},
     "output_type": "display_data"
    }
   ],
   "source": [
    "y_pred = test_predictions['classes']\n",
    "y_true = test_labels\n",
    "cm = confusion_matrix(y_true, y_pred)\n",
    "luc.plot_confusion_matrix(cm, [\"Barren\", \"Forest\", \"Shrub\", \"Cultivated\", \"Herbaceous\", \"Developed\"])"
   ]
  },
  {
   "cell_type": "code",
   "execution_count": 23,
   "metadata": {},
   "outputs": [
    {
     "name": "stdout",
     "output_type": "stream",
     "text": [
      "Accuracy (all classes):  0.690986394558\n"
     ]
    }
   ],
   "source": [
    "# Accuracy (all classes)\n",
    "accuracy = accuracy_score(y_true, y_pred)\n",
    "print(\"Accuracy (all classes): \", accuracy)"
   ]
  },
  {
   "cell_type": "code",
   "execution_count": 24,
   "metadata": {},
   "outputs": [
    {
     "name": "stdout",
     "output_type": "stream",
     "text": [
      "Accuracy (Undeveloped, Cultivated, Developed):  0.841496598639\n"
     ]
    }
   ],
   "source": [
    "# Accuracy (Undeveloped, Cultivated, Developed)\n",
    "y_true = luc.merge_classes(y_true)\n",
    "y_pred = luc.merge_classes(y_pred)\n",
    "\n",
    "accuracy = accuracy_score(y_true, y_pred)\n",
    "print(\"Accuracy (Undeveloped, Cultivated, Developed): \", accuracy)"
   ]
  },
  {
   "cell_type": "code",
   "execution_count": null,
   "metadata": {
    "collapsed": true
   },
   "outputs": [],
   "source": []
  }
 ],
 "metadata": {
  "kernelspec": {
   "display_name": "Python 3",
   "language": "python",
   "name": "python3"
  },
  "language_info": {
   "codemirror_mode": {
    "name": "ipython",
    "version": 3
   },
   "file_extension": ".py",
   "mimetype": "text/x-python",
   "name": "python",
   "nbconvert_exporter": "python",
   "pygments_lexer": "ipython3",
   "version": "3.5.2"
  }
 },
 "nbformat": 4,
 "nbformat_minor": 2
}
